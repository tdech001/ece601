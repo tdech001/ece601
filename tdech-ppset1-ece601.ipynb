{
 "cells": [
  {
   "cell_type": "markdown",
   "metadata": {},
   "source": [
    "## Tim DeChant\n",
    "## ECE 601 - Dr. Gray\n",
    "## Practice Problems Set #1\n",
    " Exam 10/5/2017"
   ]
  },
  {
   "cell_type": "markdown",
   "metadata": {},
   "source": [
    "## 1. Kailath 2.2-11."
   ]
  },
  {
   "cell_type": "markdown",
   "metadata": {},
   "source": [
    "Suppose $\\{A_i,b_i,c_i, \\: i=1,2\\}$ are two realizations of a transfer function $[c_1(sI - A_1)^{-1}b_1 = c_2(sI-A_2)^{-1}b_2]$.  In general, even if the $A_i$ have the same order, there may not be a nonsingular linear transformation relating the states of the two realizations.  However, if such a transformation does exist, say $x_1(t)=Tx_2(t), \\: detT\\ne0$, prove that we must have\n",
    "$$\n",
    "A_2=T^{-1}A_1T, \\quad b_2=T^{-1}b_1, \\quad c_2=c_1T\n",
    "$$\n",
    "*Hint:* Note that $u(\\cdot)$ and $x(0^-)$ can be arbitrary."
   ]
  },
  {
   "cell_type": "markdown",
   "metadata": {},
   "source": [
    "$$\n",
    "\\begin{aligned}\n",
    "x_1 = Tx_2 \\quad\\rightarrow\\quad T^{-1}x_1 = x_2 \\quad\\rightarrow\\quad T^{-1}\\dot{x}_1 = \\dot{x}_2 \\\\\\\\\n",
    "\\end{aligned} \\\\\n",
    "\\begin{aligned}\n",
    "      \\dot{x}_1 &=        A_1x_1 + b_1u                       \\\\\n",
    "T^{-1}\\dot{x}_1 &= T^{-1}(A_1x_1 + b_1u)                      \\\\\n",
    "                &= T^{-1}A_1x_1 + T^{-1}b_1u                  \\\\\n",
    "                &= T^{-1}A_1T\\,\\cdot\\,T^{-1}x_1 + T^{-1}b_1u  \\\\\n",
    "      \\dot{x}_2 &= T^{-1}A_1T\\,\\cdot\\,x_2 + T^{-1}b_1u        \\\\\\\\\n",
    "              y &= c_1x_1                                     \\\\\n",
    "                &= c_1T\\,\\cdot\\,T^{-1}x_1                     \\\\\n",
    "                &= c_1T\\,\\cdot\\,x_2                           \\\\\n",
    "\\end{aligned}\n",
    "$$"
   ]
  },
  {
   "cell_type": "markdown",
   "metadata": {},
   "source": [
    "## 2. Kailath 2.2-14. *Two Useful Factorizations of Hankel Matrices*"
   ]
  },
  {
   "cell_type": "markdown",
   "metadata": {},
   "source": [
    "Refer to Eq. (2.2-49) and show that we can write\n",
    "$$\n",
    "M[1,j-1] = \\mathcal{O}_j(c,A)\\mathcal{C}_j(A,b) \\quad\\text{and}\\quad M[2,j-1] = \\mathcal{O}_j(c,A)A\\mathcal{C}_j(A,b)\n",
    "$$\n",
    "where\n",
    "$$\n",
    "\\mathcal{O}'_j(c,A)=\\begin{bmatrix}c'&A'c'&\\cdots&(A')^{j-1}c'\\end{bmatrix}', \\quad \\mathcal{C}_j(c,A)=\\begin{bmatrix}b&Ab&\\cdots&A^{j-1}b\\end{bmatrix}\n",
    "$$"
   ]
  },
  {
   "cell_type": "markdown",
   "metadata": {},
   "source": [
    "$$\n",
    "\\begin{aligned}\n",
    "       M[i,j] &= \\begin{bmatrix}\n",
    "                    h_i     & h_{i+1} & h_{i+2} & \\cdots & h_{i+j}  \\\\\n",
    "                    h_{i+1} & h_{i+2} &         &   .               \\\\\n",
    "                    h_{i+2} &         &   .     &        & \\vdots   \\\\\n",
    "                    \\vdots  &    .                                  \\\\\n",
    "                    h_{i+j} &         & \\cdots  &        & h_{i+2j} \\\\\n",
    "                 \\end{bmatrix}, \\quad h_i=cA^{i-1}b                                     \\\\\n",
    "       M[i,j] &= \\begin{bmatrix}\n",
    "                    cA^{i-1}b   & cA^{i}b  & cA^{i+1}b & \\cdots & cA^{i+j-1}b  \\\\\n",
    "                    cA^{i}b     &cA^{i+1}b &           &   .               \\\\\n",
    "                    cA^{i+1}b   &          &   .       &        & \\vdots   \\\\\n",
    "                    \\vdots      &    .                                   \\\\\n",
    "                    cA^{i+j-1}b &          &   \\cdots  &        & cA^{i+2j-1}b \\\\\n",
    "                 \\end{bmatrix}                                                          \n",
    "               = \\begin{bmatrix} cA^{i-1} \\\\ cA^{i} \\\\ cA^{i+1} \\\\ \\vdots \\\\ cA^{i+j-1} \\end{bmatrix} b                                        + \\begin{bmatrix} cA^{i-1} \\\\ cA^{i} \\\\ cA^{i+1} \\\\ \\vdots \\\\ cA^{i+j-1} \\end{bmatrix} Ab                                        + \\cdots\n",
    "               + \\begin{bmatrix} cA^{i-1} \\\\ cA^{i} \\\\ cA^{i+1} \\\\ \\vdots \\\\ cA^{i+j-1} \\end{bmatrix} A^{j}b \\\\\n",
    "       M[i,j] &= \\begin{bmatrix} cA^{i-1} \\\\ cA^{i} \\\\ cA^{i+1} \\\\ \\vdots \\\\ cA^{i+j-1} \\end{bmatrix}\n",
    "                 \\begin{bmatrix} b & Ab & \\cdots & A^{j}b \\end{bmatrix} \\\\\n",
    "                                                                        \\\\\n",
    "     M[1,j-1] &= \\begin{bmatrix} c \\\\ cA \\\\ cA^{2} \\\\ \\vdots \\\\ cA^{j-1} \\end{bmatrix}\n",
    "                 \\begin{bmatrix} b & Ab & \\cdots & A^{j-1}b \\end{bmatrix} \\\\\n",
    "                                                                           \\\\\n",
    "     M[2,j-1] &= \\begin{bmatrix} cA \\\\ cA^{2} \\\\ cA^{3} \\\\ \\vdots \\\\ cA^{j} \\end{bmatrix}\n",
    "                 \\begin{bmatrix} b & Ab & \\cdots & A^{j-1}b \\end{bmatrix} \n",
    "               = \\begin{bmatrix} c \\\\ cA \\\\ cA^{2} \\\\ \\vdots \\\\ cA^{j-1} \\end{bmatrix}A\n",
    "                 \\begin{bmatrix} b & Ab & \\cdots & A^{j-1}b \\end{bmatrix} \\\\\\\\\n",
    "\\end{aligned} \\\\\n",
    "$$\n"
   ]
  },
  {
   "cell_type": "markdown",
   "metadata": {},
   "source": [
    "## 3. Kailath 2.2-16. *The Relative Order of a System*"
   ]
  },
  {
   "cell_type": "markdown",
   "metadata": {},
   "source": [
    "a. Show that the numerator polynomial of the transer function of a system realization has degree $m$ if and only if\n",
    "$$\n",
    "cA^ib=0 \\quad \\text{for} \\quad i=0,1,2,\\cdots,n-m-2\n",
    "$$\n",
    "and\n",
    "$$\n",
    "cA^{n-m-1}b \\ne 0\n",
    "$$"
   ]
  },
  {
   "cell_type": "markdown",
   "metadata": {},
   "source": [
    "b. Conversely, if the difference between degrees of the numerator and denominator polynomials of a given transfer function is $p$ and if $(A,b,c)$ is a realization of this transfer function, then how many and which of the $\\{cA^ib\\}_{i=0}^{n-1}$ must be zero?  The integer $p$ is known as the *relative order* of the system."
   ]
  },
  {
   "cell_type": "markdown",
   "metadata": {},
   "source": [
    "## 4. Kailath 2.2-21. *Linearization*"
   ]
  },
  {
   "cell_type": "markdown",
   "metadata": {},
   "source": [
    "a. Linearize the time-invariant nonlinear equation $\\dot{h}(t)=-k_2k_1\\sqrt{h(t)} + k_2u(t), \\quad y(t)=k_1\\sqrt{h(t)}$ about the nominal solution $u_0\\equiv0, \\quad 2\\sqrt{h_0(t)}=2\\sqrt{c}-k_1k_2t$. [$c=h_0(0)$.]  *Note that the linearized equations are time variant.*"
   ]
  },
  {
   "cell_type": "markdown",
   "metadata": {},
   "source": [
    "b. The state equations of an inverted pendulum can be shown to be $\\dot{x}_1(t) = x_2(t), \\quad \\dot{x}_2(t)=(g/l)sin x(t)+u(t)$.  Show that the linearized equations about the equilibrium solution $x_1(\\cdot)=x_2(\\cdot)=u(\\cdot) \\equiv 0$ have\n",
    "\n",
    "$$\n",
    "A=\\begin{bmatrix}0&1\\\\g/l&0\\end{bmatrix}, \\quad b=\\begin{bmatrix}0\\\\1\\end{bmatrix}\n",
    "$$"
   ]
  },
  {
   "cell_type": "markdown",
   "metadata": {},
   "source": [
    "## 5. *Properties of the Matrix Exponential*"
   ]
  },
  {
   "cell_type": "markdown",
   "metadata": {},
   "source": [
    "Let $A, B \\in \\mathbb{R}^{n×n}$. For each statement below, either prove its validity or provide a counterexample to disprove it.\n"
   ]
  },
  {
   "cell_type": "markdown",
   "metadata": {},
   "source": [
    "### (a) $exp(At_1) exp(At_2) = exp(A(t_1 + t_2))$"
   ]
  },
  {
   "cell_type": "markdown",
   "metadata": {},
   "source": [
    "### (b) $exp(At) exp(Bt) = exp((A + B)t)$"
   ]
  },
  {
   "cell_type": "markdown",
   "metadata": {},
   "source": [
    "### (c) $(exp(At))^T = exp(A^Tt)$"
   ]
  },
  {
   "cell_type": "markdown",
   "metadata": {},
   "source": [
    "### (d) $(exp(At))^{−1} = exp((At)^{−1})$, when $At$ is invertible"
   ]
  },
  {
   "cell_type": "markdown",
   "metadata": {},
   "source": [
    "### (e) $rank(exp(At)) = rank(At)$"
   ]
  },
  {
   "cell_type": "markdown",
   "metadata": {},
   "source": [
    "### (f) $eig(exp(At)) = exp(eig(A)t)$, where $eig(A)$ is any eigenvalue of $A$"
   ]
  },
  {
   "cell_type": "markdown",
   "metadata": {},
   "source": [
    "### (g) $Tr(exp(At)) = exp(det(A)t)$"
   ]
  },
  {
   "cell_type": "markdown",
   "metadata": {},
   "source": [
    "### (h) $det(exp(At)) = exp(Tr(A)t)$"
   ]
  },
  {
   "cell_type": "markdown",
   "metadata": {},
   "source": [
    "### (i) $d/dt[exp(At)] = A exp(At) = exp(At)A$"
   ]
  },
  {
   "cell_type": "markdown",
   "metadata": {},
   "source": [
    "### (j) $\\int^t_0exp(A\\tau) d\\tau = A^{−1}(exp(At) − I) = (exp(At) − I)A^{−1}$, when $A$ is invertible"
   ]
  },
  {
   "cell_type": "code",
   "execution_count": null,
   "metadata": {
    "collapsed": true
   },
   "outputs": [],
   "source": []
  }
 ],
 "metadata": {
  "kernelspec": {
   "display_name": "MATLAB",
   "language": "matlab",
   "name": "imatlab"
  },
  "language_info": {
   "codemirror_mode": "octave",
   "file_extension": ".m",
   "mimetype": "text/x-matlab",
   "name": "matlab",
   "nbconvert_exporter": "imatlab._exporter.MatlabExporter",
   "pygments_lexer": "matlab",
   "version": "9.2.0.556344 (R2017a)"
  }
 },
 "nbformat": 4,
 "nbformat_minor": 2
}
