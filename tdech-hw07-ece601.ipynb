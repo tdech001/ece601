{
 "cells": [
  {
   "cell_type": "markdown",
   "metadata": {},
   "source": [
    "## Tim DeChant\n",
    "## ECE 601 - Dr. Gray\n",
    "## Homework #7\n",
    " Due 11/2/2017"
   ]
  },
  {
   "cell_type": "markdown",
   "metadata": {},
   "source": [
    "### 1. Kailath Problem 2.4-6. *Controllability and Observability of Interconnected Subsystems.*\n",
    "#### Let $\\{A_i,b_i,c_i,\\, i=1,2\\}$ be realizations of order $n_i$ of the transfer functions $H_i(s) = g_i(s)/a_i(s)$, also of order $n_i$."
   ]
  },
  {
   "cell_type": "markdown",
   "metadata": {},
   "source": [
    "#### a. Show that if the realizations are controllable, then the *series* combination of system 1 followed by system 2 is controllable if and only if $g_1(s)$ and $a_2(s)$ are coprime."
   ]
  },
  {
   "cell_type": "markdown",
   "metadata": {},
   "source": [
    "The combined realization:\n",
    "$$\n",
    "\\begin{aligned}\n",
    "\\{A,b,c\\} &= \\left\\{\\begin{bmatrix} A_1 & \\bigcirc \\\\ b_2c_1 & A_2 \\end{bmatrix},\n",
    "                    \\begin{bmatrix} b_1 \\\\ \\bigcirc \\end{bmatrix},\n",
    "                    \\begin{bmatrix} \\bigcirc & c_2 \\end{bmatrix}\\right\\} \\\\\\\\\n",
    "\\end{aligned}\n",
    "$$\n",
    "Since both are controllable:\n",
    "$$\n",
    "\\begin{aligned}\n",
    "    det(\\mathcal{C}_1) &=& det\\left( \\begin{bmatrix} b_1 & A_1b_1 & A_1^2b_1 & \\ldots \\end{bmatrix} \\right) &\\ne 0 \\\\\n",
    "    det(\\mathcal{C}_2) &=& det\\left( \\begin{bmatrix} b_2 & A_2b_2 & A_2^2b_2 & \\ldots \\end{bmatrix} \\right) &\\ne 0 \\\\\n",
    "\\end{aligned} \\\\\\\\\\\\\n",
    "$$\n",
    "For controllability of the combination:\n",
    "$$\n",
    "\\begin{aligned}\n",
    "    det(\\mathcal{C}) &=& det \\left( \\begin{bmatrix} \\begin{bmatrix} b_1 \\\\ \\bigcirc \\end{bmatrix} &\n",
    "                                                    \\begin{bmatrix} A_1b_1 \\\\ b_2c_1b_1 \\end{bmatrix} &\n",
    "                                                 A^2\\begin{bmatrix} b_1 \\\\ \\bigcirc \\end{bmatrix} &\n",
    "                             \\ldots \\end{bmatrix} \\right) &\\ne 0\n",
    "\\end{aligned} \\\\\\\\\\\\\n",
    "$$\n",
    "The combined realization:\n",
    "$$\n",
    "\\begin{aligned}\n",
    "\\{A,b,c\\} &= \\left\\{\\begin{bmatrix} A_1 & \\bigcirc \\\\ b_2c_1 & A_2 \\end{bmatrix},\n",
    "                    \\begin{bmatrix} b_1 \\\\ \\bigcirc \\end{bmatrix},\n",
    "                    \\begin{bmatrix} \\bigcirc & c_2 \\end{bmatrix}\\right\\} \\\\\\\\\n",
    "           H(s) &= c(sI-A)^{-1}b \\\\\n",
    "                &= \\begin{bmatrix} \\bigcirc & c_2 \\end{bmatrix}\n",
    "                   \\begin{bmatrix} (sI-A_1)^{-1} & \\bigcirc \\\\ \\cdot & (sI-A_2)^{-1} \\end{bmatrix}\n",
    "                   \\begin{bmatrix} b_1 \\\\ \\bigcirc \\end{bmatrix} \\\\\n",
    "\\end{aligned} \\\\\\\\\\\\\n",
    "$$\n"
   ]
  },
  {
   "cell_type": "markdown",
   "metadata": {},
   "source": [
    "#### b. Show that if the realizations are observable (controllable), then the *parallel* combination is observable (controllable) if and onlyif $a_1(s)$ and $a_2(s)$ are coprime."
   ]
  },
  {
   "cell_type": "markdown",
   "metadata": {},
   "source": [
    "#### c. Show that if the realizations are observable (controllable), then the *feedback* configuration with system 1 in the forward path and system 2 in the feedback path is observable (controllable) if and only if $g_1(s)$ and $a_2(s)$ are coprime.\n",
    "\n",
    "#### *Note:* One way to prove part c is to show, using general arguments, that the feedback system is equivalent, insofar as observability (controllability) goes to the series combination of system 2 followed by system 1 (system 1 followed by system 2)."
   ]
  },
  {
   "cell_type": "markdown",
   "metadata": {},
   "source": [
    "#### d. Extend the results to the case of systems with direct feedthrough from input to output."
   ]
  },
  {
   "cell_type": "markdown",
   "metadata": {},
   "source": [
    "### 2. Kailath Problem 2.4-8."
   ]
  },
  {
   "cell_type": "markdown",
   "metadata": {},
   "source": [
    "#### a. Use the PBH tests to show that the controller-form realization of $b(s)/a(s)$ will be observable if and only if $\\{b(s),a(s)\\}$ are coprime.  (Another proof was given in Example 2.3-5.) (*Hint:* See Exercise A.35.)"
   ]
  },
  {
   "cell_type": "markdown",
   "metadata": {},
   "source": [
    "$$\n",
    "\\begin{aligned}\n",
    "            A_cp &= \\lambda p \\quad\\rightarrow&\\quad p &= \\begin{bmatrix}\\lambda^{n-1}\\\\\\vdots\\\\\\lambda\\\\1\\end{bmatrix} \\\\\\\\\n",
    "                 &                            &   c_cp &= b_1\\lambda^{n-1}+b_2\\lambda^{n-2}+\\cdots+b_{n-1}\\lambda+b_n  \\\\\n",
    "\\end{aligned}\n",
    "$$"
   ]
  },
  {
   "cell_type": "markdown",
   "metadata": {},
   "source": [
    "$$\n",
    "\\begin{aligned}\n",
    "            qA_c &= \\lambda q \\quad\\rightarrow&\\quad q &= \\begin{bmatrix}1&\\lambda&\\cdots&\\lambda^{n-1}\\end{bmatrix}\n",
    "                                                        \\begin{bmatrix}1                  \\\\\n",
    "                                                                       a_1    & 1      &        & \\bigcirc     \\\\\n",
    "                                                                       a_2    & a_1    & 1      &              \\\\\n",
    "                                                                       \\vdots & \\vdots & \\vdots & \\ddots       \\\\\n",
    "                                                                       a_{n-1}& a_{n-2}& a_{n-3}& \\cdots   & 1\n",
    "                                                                       \\end{bmatrix}\n",
    "\\end{aligned}\n",
    "$$"
   ]
  },
  {
   "cell_type": "markdown",
   "metadata": {},
   "source": [
    "#### b. The differential equation $\\dot{x}(t)=Ax(t)+bu(t)$ can be approximated by the equations $x_{k+1}=(I+A\\Delta)x_k+\\Delta bu_k$. If $\\{A,b\\}$ is controllable, what can you say about the controllabilityof $\\{I+A\\Delta, \\Delta b\\}$?"
   ]
  },
  {
   "cell_type": "markdown",
   "metadata": {},
   "source": [
    "### 3. Kailath Problem 2.5-3"
   ]
  },
  {
   "cell_type": "markdown",
   "metadata": {},
   "source": [
    "#### If $\\bar{A}=T^{-1}AT$, show that $\\bar{A^k}=T^{-1}A^kT$ and that $\\exp{At}=T(\\exp{\\bar{A}t})T^{-1}$."
   ]
  },
  {
   "cell_type": "markdown",
   "metadata": {},
   "source": [
    "### 4. Kailath Problem 2.5-9"
   ]
  },
  {
   "cell_type": "markdown",
   "metadata": {},
   "source": [
    "#### a. Write state equations for the network shown in the figure."
   ]
  },
  {
   "cell_type": "markdown",
   "metadata": {},
   "source": [
    "$$\n",
    "\\begin{aligned}\n",
    "y &= 6i_2                                                 \\\\\n",
    "u &= 10\\dot{i}_1 + 30(i_1-i_2) &\\rightarrow \\dot{i}_1 &= -3i_1 + 3 i_2 + \\frac{1}{10}u \\\\\n",
    "u &= 10\\dot{i}_1 + 9\\dot{i}_2 + 6i_2 &\\rightarrow\n",
    "           \\dot{i}_2 &= \\frac{-10}{9}\\dot{i}_1 + \\frac{-2}{3} i_2 + \\frac{1}{9}u  \\\\\n",
    "  &    &             &= \\frac{-10}{9}(-3i_1 + 3 i_2 + \\frac{1}{10}u) + \\frac{-2}{3} i_2 + \\frac{1}{9}u  \\\\\n",
    "  &    &             &=   \\\\\n",
    "  \\\\\n",
    "\\dot{x} &= \\begin{bmatrix}-3 & 3 \\\\ \\cdot&\\cdot \\end{bmatrix}x + \\begin{bmatrix}\\frac{1}{10} \\\\ \\cdot \\end{bmatrix}u \\\\\n",
    "      y &= \\begin{bmatrix}0 & 6\\end{bmatrix}x\n",
    "\\end{aligned}\n",
    "$$"
   ]
  },
  {
   "cell_type": "markdown",
   "metadata": {},
   "source": [
    "#### b. Assume that the input $u(\\cdot)$ is turned off at $t=0$.  Show how to choose $i_1(0),i_2(0)$, subject to the constraint $i_1^2(0) + i_2^2(0) = 1$, so that the system returns to rest at the fastest possible rate."
   ]
  },
  {
   "cell_type": "markdown",
   "metadata": {},
   "source": [
    "### 5. Kailath Problem 2.5-12. *Sampled-Data Systems*"
   ]
  },
  {
   "cell_type": "markdown",
   "metadata": {},
   "source": [
    "#### To interface with a digital computer used to compute a control input, we may assume that the input is piecewise constant, say,\n",
    "$$\n",
    "u(t) = u_k, \\quad k\\Delta \\lt t \\le (k+1)\\Delta\n",
    "$$\n",
    "#### and that the output $y(\\cdot)$ is observed only at the instants $k\\Delta,\\quad k=0,1,\\ldots$, where $\\Delta$ is some fixed sampling interval.  Show that for this purpose in an underlying continuous-time realization\n",
    "$$\n",
    "\\dot{x}(t) = Ax(t) + bu(t), \\quad y(t)=cx(t)\n",
    "$$\n",
    "#### may be replaced by the discrete-time system\n",
    "$$\n",
    "x_{k+1} = \\Phi x_k + \\Gamma u_k, \\quad y_k = cx_k\n",
    "$$\n",
    "#### where\n",
    "$$\n",
    "\\begin{aligned}\n",
    "y_k  = y(k\\Delta),     \\quad&      x_k = x(k\\Delta) \\\\\n",
    "\\Phi = \\exp{A\\Delta},  \\quad&   \\Gamma = \\int_0^\\Delta (\\exp{A\\tau}) \\,d\\tau \\cdot b\n",
    "\\end{aligned}\n",
    "$$"
   ]
  },
  {
   "cell_type": "markdown",
   "metadata": {},
   "source": []
  },
  {
   "cell_type": "markdown",
   "metadata": {},
   "source": [
    "### 6. Analysis of the Microsatellite\n",
    "#### Reconsider the attitude model for the microsatellite described in Homeworks #1 and #2, where $I_i = i$, $b_i = i$, and $c_i = i$ for $i = 1, 2, 3$. If the model is linearized about the equilibrium $x_e = (1, 1, 1)$, determine the following:"
   ]
  },
  {
   "cell_type": "markdown",
   "metadata": {},
   "source": [
    "#### (a) the transfer matrix for the system;"
   ]
  },
  {
   "cell_type": "markdown",
   "metadata": {},
   "source": [
    "#### (b) whether the system is controllable or not;"
   ]
  },
  {
   "cell_type": "markdown",
   "metadata": {},
   "source": [
    "#### (c) whether the system is observable or not."
   ]
  },
  {
   "cell_type": "markdown",
   "metadata": {},
   "source": [
    "#### Remark: Note that this is a multivariable system with three inputs and three outputs.  The multivariable extension of the formula to compute the transfer function, the definition of the controllable matrix, and the definition of the observability matrix are exactly what you would suspect. So all the corresponding theory for single-input, single-output systems extends directly. Note, however, that certain concepts like irreducibility are not so obvious in this context."
   ]
  },
  {
   "cell_type": "code",
   "execution_count": null,
   "metadata": {
    "collapsed": true
   },
   "outputs": [],
   "source": []
  }
 ],
 "metadata": {
  "kernelspec": {
   "display_name": "MATLAB",
   "language": "matlab",
   "name": "imatlab"
  },
  "language_info": {
   "codemirror_mode": "octave",
   "file_extension": ".m",
   "mimetype": "text/x-matlab",
   "name": "matlab",
   "nbconvert_exporter": "imatlab._exporter.MatlabExporter",
   "pygments_lexer": "matlab",
   "version": "9.2.0.556344 (R2017a)"
  }
 },
 "nbformat": 4,
 "nbformat_minor": 2
}
