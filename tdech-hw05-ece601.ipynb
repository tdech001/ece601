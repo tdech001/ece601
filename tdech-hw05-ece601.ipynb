{
 "cells": [
  {
   "cell_type": "markdown",
   "metadata": {},
   "source": [
    "## Tim DeChant\n",
    "## ECE 601 - Dr. Gray\n",
    "## Homework #5\n",
    " Due 10/19/2017"
   ]
  },
  {
   "cell_type": "markdown",
   "metadata": {},
   "source": [
    "### 1. Kailath 2.2-22. *A Constant-Resistance Network*"
   ]
  },
  {
   "cell_type": "markdown",
   "metadata": {},
   "source": [
    "#### a. Show that a realization for the circuit shown in the figure [$u(\\cdot)$ is a current and $y(\\cdot)$ is a voltage] can be written as:\n",
    "$$\n",
    "\\begin{aligned}\n",
    "\\dot{x}(t) &= \\begin{bmatrix}-2R/L & 1/L \\\\ -1/C & 0 \\end{bmatrix}x(t) + \\begin{bmatrix}R/L \\\\ 1/C\\end{bmatrix}u(t) \\\\\n",
    "      y(t) &= \\begin{bmatrix}-R & 1\\end{bmatrix}x(t) + Ru(t)\n",
    "\\end{aligned}\n",
    "$$\n",
    "if we choose $x_1(t)=i_L(t)$, $x_2(t)=V_C(t)$."
   ]
  },
  {
   "cell_type": "markdown",
   "metadata": {},
   "source": [
    "**C Leg:**\n",
    "$\n",
    "\\begin{aligned}\n",
    "                               y &= V_C + Ri_C                     \\\\\n",
    "                                 &= V_C + R(u - i_L)                \\\\\n",
    "                                 &= V_C + -Ri_L + Ru\n",
    "\\end{aligned}\n",
    "$,\n",
    "**L Leg**:\n",
    "$\n",
    "\\begin{aligned}\n",
    "                               y &= L\\frac{d}{dt}i_L + Ri_L         \\\\\n",
    "         L\\frac{d}{dt}i_L + Ri_L &= V_C + -Ri_L + Ru                 \\\\\n",
    "                 \\frac{d}{dt}i_L &= V_C/L + -2R/Li_L + R/Lu\n",
    "\\end{aligned}\n",
    "$,\n",
    "**Loops**:\n",
    "$\n",
    "\\begin{aligned}\n",
    "                             i_c &= u - i_L \\\\\n",
    "                C\\frac{d}{dt}V_C &= -i_L + u \\\\\n",
    "                 \\frac{d}{dt}V_C &= -1/Ci_L + 1/Cu\n",
    "\\end{aligned}\n",
    "$"
   ]
  },
  {
   "cell_type": "markdown",
   "metadata": {},
   "source": [
    "#### b. Show that the transfer function is given by:\n",
    "$$\n",
    "H(s) = \\frac{Y(s)}{U(s)} = \\frac{Rs^2 + [(1/C) + (R^2/L)]s + (R/LC)}{s^2+(2R/L)s+(1/LC)}\n",
    "$$\n",
    "Note that when $R^2=L/C$ the transfer function is a constant, $H(s)=R$, for all values of $s$. This is known as a *constant-resistance network*."
   ]
  },
  {
   "cell_type": "markdown",
   "metadata": {},
   "source": [
    "$$\n",
    "\\begin{aligned}\n",
    "H(s) = \\frac{Y(s)}{H(s)} &= c(sI-A)^{-1}b+d                                                   \\\\\n",
    "                         &= \\begin{bmatrix}-R & 1\\end{bmatrix}\n",
    "                            \\begin{bmatrix}s+2R/L & -1/L \\\\ 1/C & s \\end{bmatrix}^{-1}                                                                       \\begin{bmatrix}R/L \\\\ 1/C\\end{bmatrix} + R                        \\\\\n",
    "                         &= \\frac{\n",
    "                            \\begin{bmatrix}-R & 1\\end{bmatrix}\n",
    "                            \\begin{bmatrix}s & 1/L \\\\ -1/C & s+2R/L \\end{bmatrix}\n",
    "                            \\begin{bmatrix}R/L \\\\ 1/C\\end{bmatrix}\n",
    "                            }{det(sI-A)} + R                          \\\\\n",
    "                         &= \\frac{\n",
    "                            \\begin{bmatrix}-R & 1\\end{bmatrix}\n",
    "                            \\begin{bmatrix}(R/L)s + 1/LC \\\\ -R/LC + (1/C)s + 2R/LC \\end{bmatrix}\n",
    "                            }{det(sI-A)} + R \\\\\n",
    "                         &= \\frac{\n",
    "                            -(R^2/L)s - R/LC + (1/C)s + R/LC\n",
    "                            }{s^2+(2R/L)s + 1/LC} + \\frac{Rs^2+(2R^2/L)s + R/LC}{s^2+(2R/L)s + 1/LC} \\\\\n",
    "                         &= \\frac{\n",
    "                            Rs^2 + (R^2/L)s + (1/C)s + R/LC\n",
    "                            }{s^2+(2R/L)s + 1/LC} \\\\\n",
    "\\end{aligned}\n",
    "$$"
   ]
  },
  {
   "cell_type": "markdown",
   "metadata": {},
   "source": [
    "### 2. Kailath 2.3-3.\n",
    "Consider the system illustrated in the figure."
   ]
  },
  {
   "cell_type": "markdown",
   "metadata": {},
   "source": [
    "#### a. Give a state-variable realization of this system."
   ]
  },
  {
   "cell_type": "markdown",
   "metadata": {},
   "source": [
    "Realize block $\\frac{s+1}{s(s+3)}=\\frac{s+1}{s^2+3s+0}$ as controller form:\n",
    "$(A_1,b_1,c_1) = \\left(\n",
    "\\begin{bmatrix}-3 & 0 \\\\ 1 & 0\\end{bmatrix},\n",
    "\\begin{bmatrix}1 \\\\ 0\\end{bmatrix},\n",
    "\\begin{bmatrix}1 & 1\\end{bmatrix}\n",
    "\\right)$\n",
    "\n",
    "Realize (negative) feedback block $\\frac{k}{s+a}$ as controller form:\n",
    "$(A_2,b_2,c_2) = (-a,1,k)$\n",
    "\n",
    "Feedback realization combines blocks:\n",
    "$(A,b,c) = \\left(\n",
    "\\begin{bmatrix} A_1 & -b_1c_2 \\\\ b_2c_1 & A_2  \\end{bmatrix},\n",
    "\\begin{bmatrix} b_1 \\\\ \\bigcirc  \\end{bmatrix},\n",
    "\\begin{bmatrix} c_1 & \\bigcirc \\end{bmatrix}\n",
    "\\right)\n",
    " = \\left(\n",
    "\\begin{bmatrix} -3 & 0 & -k \\\\ 1 & 0 & 0 \\\\ 1 & 1 & -a \\end{bmatrix},\n",
    "\\begin{bmatrix} 1 \\\\ 0 \\\\ 0  \\end{bmatrix},\n",
    "\\begin{bmatrix} 1 & 1 & 0 \\end{bmatrix}\n",
    "\\right)$\n"
   ]
  },
  {
   "cell_type": "markdown",
   "metadata": {},
   "source": [
    "#### b. Is there any choice of parameters $k$ and/or $a$ for which this realization loses either controllability or obervability or both?"
   ]
  },
  {
   "cell_type": "markdown",
   "metadata": {},
   "source": [
    "#### Controllability Matrix:\n",
    "$$\n",
    "\\mathcal{C} = \\begin{bmatrix}b & Ab & A^2b\\end{bmatrix} = \n",
    "\\begin{bmatrix}\n",
    " 1 & -3 & 9-k \\\\\n",
    " 0 &  1 & -3 \\\\\n",
    " 0 &  1 & -2-a \n",
    "\\end{bmatrix} \\\\\n",
    "det(\\mathcal{C}) = 1-a\n",
    "$$\n",
    "So the system is not controllable when $a=1$."
   ]
  },
  {
   "cell_type": "markdown",
   "metadata": {},
   "source": [
    "#### Observability Matrix:\n",
    "$$\n",
    "\\mathcal{O} = \\begin{bmatrix}c \\\\ cA \\\\ cA^2\\end{bmatrix} = \n",
    "\\begin{bmatrix}\n",
    "  1  &  1 &  0 \\\\\n",
    " -2  &  0 & -k \\\\\n",
    " 6-k & -k & 2k+ak\n",
    "\\end{bmatrix} \\\\\n",
    "\\begin{aligned}\n",
    "det(\\mathcal{O}) &= -k^2 + (-4k-2ak) - (-6k+k^2) \\\\\n",
    "                 &= -2k^2 + 2k - 2ak             \\\\\n",
    "                 &= -2k(k - 1 + a)               \\\\\n",
    "\\end{aligned}\n",
    "$$\n",
    "\n",
    "So the system is not observable when $k=0$ or $k=1-a$."
   ]
  },
  {
   "cell_type": "markdown",
   "metadata": {},
   "source": [
    "### 3. Kailath 2.3-12.\n",
    "For the constant resistance networks of Exercises 2.2.22 ~~and 2.2.23~~, determine what relations between R, L, and C are required to make them uncontrollable and/or unobservable."
   ]
  },
  {
   "cell_type": "markdown",
   "metadata": {},
   "source": [
    "$$\n",
    "\\begin{aligned}\n",
    "\\dot{x}(t) &= \\begin{bmatrix}-2R/L & 1/L \\\\ -1/C & 0 \\end{bmatrix}x(t) + \\begin{bmatrix}R/L \\\\ 1/C\\end{bmatrix}u(t) \\\\\n",
    "      y(t) &= \\begin{bmatrix}-R & 1\\end{bmatrix}x(t) + Ru(t)\n",
    "\\end{aligned}\n",
    "$$"
   ]
  },
  {
   "cell_type": "markdown",
   "metadata": {},
   "source": [
    "#### Controllability Matrix:\n",
    "$$\n",
    "\\mathcal{C} = \\begin{bmatrix}b & Ab\\end{bmatrix} = \n",
    "\\begin{bmatrix}\n",
    " \\frac{R}{L} & \\frac{-2R^2}{L^2}+\\frac{1}{LC} \\\\\n",
    " \\frac{1}{C} & \\frac{-R}{LC}  \n",
    "\\end{bmatrix} \\\\\n",
    "\\begin{aligned}\n",
    "det(\\mathcal{C}) &= \\frac{-R^2}{L^2C} - \\left( \\frac{-2R^2}{L^2C} + \\frac{1}{LC^2} \\right) \\\\\n",
    "                 &= \\frac{R^2}{L^2C} - \\frac{1}{LC^2}                                      \\\\\n",
    "                 &= \\frac{R^2C - L}{L^2C^2}                                                \\\\\n",
    "\\end{aligned}\n",
    "$$\n",
    "So the system is not controllable when $L = R^2C$."
   ]
  },
  {
   "cell_type": "markdown",
   "metadata": {},
   "source": [
    "#### Observability Matrix:\n",
    "$$\n",
    "\\mathcal{O} = \\begin{bmatrix}c \\\\ cA\\end{bmatrix} = \n",
    "\\begin{bmatrix}\n",
    "                         -R &  1  \\\\\n",
    " \\frac{2R^2}{L}-\\frac{1}{C} & \\frac{-R}{L} \n",
    "\\end{bmatrix} \\\\\n",
    "\\begin{aligned}\n",
    "det(\\mathcal{O}) &=  \\frac{R^2}{L} - \\left( \\frac{2R^2}{L}-\\frac{1}{C} \\right)   \\\\\n",
    "                 &=  \\frac{1}{C} - \\frac{R^2}{L}                                 \\\\\n",
    "                 &=  \\frac{L-R^2C}{LC}                                            \\\\\n",
    "\\end{aligned}\n",
    "$$\n",
    "\n",
    "So the system is not observable when $L=R^2C$."
   ]
  },
  {
   "cell_type": "markdown",
   "metadata": {},
   "source": [
    "### 4. Kailath 2.3-26. *The Fibonacci Sequence*\n",
    "The Fibonacci sequence $\\{0, 1, 1, 2, 3, 5, 8, 13, \\cdots\\}$ is generated by the equation\n",
    "$$\n",
    "\\begin{aligned}\n",
    "             y_k &= y_{k-1}+ y_{k-2}, \\quad k \\ge 2 \\\\\n",
    "             y_0 &= 0, \\quad y_1 = 1\n",
    "\\end{aligned}\n",
    "$$"
   ]
  },
  {
   "cell_type": "markdown",
   "metadata": {
    "collapsed": true
   },
   "source": [
    "This is equivalent to DT observability form :\n",
    "$$\n",
    "\\left.\n",
    "\\begin{aligned}\n",
    "x_{k+1} &= \\begin{bmatrix} 0 & 1 \\\\ 1 & 1 \\end{bmatrix}x_k + \\begin{bmatrix} 0 \\\\ 0 \\end{bmatrix}u\n",
    "         = \\begin{bmatrix} 0 & 1 \\\\ 1 & 1 \\end{bmatrix}x_k                                          \\\\\n",
    "    y_k &= \\begin{bmatrix} 1 & 0 \\end{bmatrix}x_k\n",
    "\\end{aligned}\n",
    "\\right\\}, \\quad x_0 = \\begin{bmatrix} y_0 \\\\ y_1 \\end{bmatrix} = \\begin{bmatrix} 0 \\\\ 1 \\end{bmatrix}\n",
    "$$"
   ]
  },
  {
   "cell_type": "markdown",
   "metadata": {
    "collapsed": true
   },
   "source": [
    "#### a. Show that we can write\n",
    "$$\n",
    "             y_n = \\frac{1}{\\sqrt5}(\\lambda^n_- - \\lambda^n_+), \\quad \\lambda_{\\pm} = \\frac{1 \\pm \\sqrt5}{2}\n",
    "$$"
   ]
  },
  {
   "cell_type": "markdown",
   "metadata": {},
   "source": [
    "Here $\\lambda_{\\pm}$ are just the eigen values of $A=\\begin{bmatrix} 0&1 \\\\ 1&1 \\end{bmatrix}$:\n",
    "$$\n",
    "\\begin{aligned}\n",
    "       det\\left(\\begin{bmatrix} -\\lambda & 1 \\\\ 1 & 1-\\lambda  \\end{bmatrix}\\right) &= 0                           \\\\\n",
    "\\lambda^2 - \\lambda - 1 &= 0                           \\\\\n",
    "          \\lambda &= \\frac{1 \\pm \\sqrt5}{2}      \\\\\n",
    "\\end{aligned}\n",
    "$$"
   ]
  },
  {
   "cell_type": "markdown",
   "metadata": {},
   "source": [
    "So the relation must be based on eigenvectors:\n",
    "$$\n",
    "\\begin{aligned}\n",
    "    v_+ &= \\begin{bmatrix} -a_-\\lambda_- \\\\ a_- \\end{bmatrix}  &\\quad\n",
    "    v_- &= \\begin{bmatrix} -a_+\\lambda_+ \\\\ a_+ \\end{bmatrix}, &\\quad\n",
    "    a_{\\pm} &= \\frac{1}{ \\sqrt{\\lambda_{\\pm}^2 + 1} }\n",
    "             = \\frac{1}{ \\sqrt{\\frac{1\\pm2\\sqrt5 + 5}{4} + 1} }\n",
    "             = \\frac{1}{ \\sqrt{\\frac{5\\pm\\sqrt5}{2}} } \n",
    "             =           \\sqrt{\\frac{2}{5\\pm\\sqrt5}} \\\\\n",
    "                                        \\\\\n",
    "                                        \\\\\n",
    "\\end{aligned}\n",
    "$$\n",
    "Showing $x_n$ as a combination $x_k = c_{k+}v_+ + c_{k-}v_-$ :\n",
    "$$\n",
    "\\begin{aligned}\n",
    "                                        \\\\\n",
    "                                        \\\\\n",
    "       x_{k+n} = A^nx_k &= A^nc_{k+}v_+ + A^nc_{k-}v_-               \\\\\n",
    "                        &= c_{k+}\\lambda_+^nv_+ + c_{k-}\\lambda_-^nv_- \\\\\\\\\n",
    "                y_{k+n} &= \\begin{bmatrix} 1 & 0  \\end{bmatrix} (c_{k+}\\lambda_+^nv_+ + c_{k-}\\lambda_-^nv_-) \\\\\n",
    "          y_n = y_{0+n} &= \\begin{bmatrix} 1 & 0  \\end{bmatrix} (c_{0+}\\lambda_+^nv_+ + c_{0-}\\lambda_-^nv_-)\n",
    "\\end{aligned}\n",
    "$$"
   ]
  },
  {
   "cell_type": "markdown",
   "metadata": {
    "collapsed": true
   },
   "source": [
    "#### b. Show that\n",
    "$$\n",
    "             \\lim_{n\\to \\infty}\\frac{\\ln y_n}{n} = \\ln \\frac{\\sqrt5 + 1}{2}\n",
    "$$"
   ]
  },
  {
   "cell_type": "markdown",
   "metadata": {},
   "source": [
    "### 5. *Simulating a Discrete-time Controller Form Realization* \n",
    "\n",
    "![](hw5a.png)\n",
    "![](hw5b.png)"
   ]
  },
  {
   "cell_type": "markdown",
   "metadata": {
    "collapsed": true
   },
   "source": [
    "This looks correct based on the Markov parameters: $H(z) = z^{-2}-z^{-4}+z^{-6}\\ldots$"
   ]
  },
  {
   "cell_type": "code",
   "execution_count": null,
   "metadata": {
    "collapsed": true
   },
   "outputs": [],
   "source": []
  }
 ],
 "metadata": {
  "kernelspec": {
   "display_name": "MATLAB",
   "language": "matlab",
   "name": "imatlab"
  },
  "language_info": {
   "codemirror_mode": "octave",
   "file_extension": ".m",
   "mimetype": "text/x-matlab",
   "name": "matlab",
   "nbconvert_exporter": "imatlab._exporter.MatlabExporter",
   "pygments_lexer": "matlab",
   "version": "9.2.0.556344 (R2017a)"
  }
 },
 "nbformat": 4,
 "nbformat_minor": 2
}
