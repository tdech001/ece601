{
 "cells": [
  {
   "cell_type": "markdown",
   "metadata": {},
   "source": [
    "# Motivating Examples\n",
    "from http://jupyter-notebook.readthedocs.io/en/latest/examples/Notebook/Typesetting%20Equations.html"
   ]
  },
  {
   "cell_type": "markdown",
   "metadata": {},
   "source": [
    "## The Cauchy-Schwarz Inequality\n",
    "$$\n",
    "\\begin{equation*}\n",
    "\\left( \\sum_{k=1}^n a_k b_k \\right)^2 \\leq \\left( \\sum_{k=1}^n a_k^2 \\right) \\left( \\sum_{k=1}^n b_k^2 \\right)\n",
    "\\end{equation*}\n",
    "$$"
   ]
  },
  {
   "cell_type": "markdown",
   "metadata": {},
   "source": [
    "## An Identity of Ramanujan\n",
    "$$\n",
    "\\begin{equation*}\n",
    "\\frac{1}{\\Bigl(\\sqrt{\\phi \\sqrt{5}}-\\phi\\Bigr) e^{\\frac25 \\pi}} =\n",
    "1+\\frac{e^{-2\\pi}} {1+\\frac{e^{-4\\pi}} {1+\\frac{e^{-6\\pi}}\n",
    "{1+\\frac{e^{-8\\pi}} {1+\\ldots} } } }\n",
    "\\end{equation*}\n",
    "$$"
   ]
  },
  {
   "cell_type": "markdown",
   "metadata": {},
   "source": [
    "## Equation Arrays\n",
    "$$\n",
    "\\begin{eqnarray}\n",
    "\t\\omega_1 & = &\n",
    "\t\\frac{\\partial w}{\\partial y}-\\frac{\\partial v}{\\partial z}\\,,\n",
    "\t\\nonumber  \\\\\n",
    "\t\\omega_2 & = & \n",
    "\t\\frac{\\partial u}{\\partial z}-\\frac{\\partial w}{\\partial x}\\,,\n",
    "\t\\label{eqcurl}  \\\\\n",
    "\t\\omega_3 & = & \n",
    "\t\\frac{\\partial v}{\\partial x}-\\frac{\\partial u}{\\partial y}\\,.\n",
    "\t\\nonumber\n",
    "\\end{eqnarray}\n",
    "$$"
   ]
  },
  {
   "cell_type": "markdown",
   "metadata": {},
   "source": [
    "## Systems\n",
    "$$\n",
    "\t\\begin{bmatrix}\n",
    "\t\t1 & x & 0 \\\\\n",
    "\t\t0 & 1 & -1\n",
    "\t\\end{bmatrix}\n",
    "    \\begin{bmatrix}\n",
    "\t\t1  \\\\\n",
    "\t\ty  \\\\\n",
    "\t\t1\n",
    "\t\\end{bmatrix}\n",
    "\t=\\begin{bmatrix}\n",
    "\t\t1+xy  \\\\\n",
    "\t\ty-1\n",
    "\t\\end{bmatrix}.\n",
    "$$"
   ]
  },
  {
   "cell_type": "markdown",
   "metadata": {},
   "source": [
    "## Matrices\n",
    "$$\n",
    "\t\\begin{bmatrix}\n",
    "\t\t-2 & 1 & 0 & 0 & \\cdots & 0  \\\\\n",
    "\t\t1 & -2 & 1 & 0 & \\cdots & 0  \\\\\n",
    "\t\t0 & 1 & -2 & 1 & \\cdots & 0  \\\\\n",
    "\t\t0 & 0 & 1 & -2 & \\ddots & \\vdots \\\\\n",
    "\t\t\\vdots & \\vdots & \\vdots & \\ddots & \\ddots & 1  \\\\\n",
    "\t\t0 & 0 & 0 & \\cdots & 1 & -2\n",
    "\t\\end{bmatrix}\n",
    "$$"
   ]
  },
  {
   "cell_type": "code",
   "execution_count": 5,
   "metadata": {},
   "outputs": [],
   "source": [
    "# Bring in some support\n",
    "import numpy as np\n",
    "from scipy.linalg import toeplitz\n",
    "from IPython.display import Latex\n",
    "\n",
    "def LaTeX_matrix(matrix):\n",
    "    rows = [ ' & '.join([ str(cell) for cell in row ]) for row in matrix ]\n",
    "    mstring = r' \\\\ '.join(rows)\n",
    "    return Latex(r'\\begin{bmatrix} %s \\end{bmatrix}'%(mstring))"
   ]
  },
  {
   "cell_type": "code",
   "execution_count": 6,
   "metadata": {},
   "outputs": [
    {
     "data": {
      "text/latex": [
       "\\begin{bmatrix} 1 & 2 & 3 & 4 & 5 & 6 & 7 & 8 & 9 & 10 \\\\ 0 & 1 & 2 & 3 & 4 & 5 & 6 & 7 & 8 & 9 \\\\ 0 & 0 & 1 & 2 & 3 & 4 & 5 & 6 & 7 & 8 \\\\ 0 & 0 & 0 & 1 & 2 & 3 & 4 & 5 & 6 & 7 \\\\ 0 & 0 & 0 & 0 & 1 & 2 & 3 & 4 & 5 & 6 \\\\ 0 & 0 & 0 & 0 & 0 & 1 & 2 & 3 & 4 & 5 \\\\ 0 & 0 & 0 & 0 & 0 & 0 & 1 & 2 & 3 & 4 \\\\ 0 & 0 & 0 & 0 & 0 & 0 & 0 & 1 & 2 & 3 \\\\ 0 & 0 & 0 & 0 & 0 & 0 & 0 & 0 & 1 & 2 \\\\ 0 & 0 & 0 & 0 & 0 & 0 & 0 & 0 & 0 & 1 \\end{bmatrix}"
      ],
      "text/plain": [
       "<IPython.core.display.Latex object>"
      ]
     },
     "execution_count": 6,
     "metadata": {},
     "output_type": "execute_result"
    }
   ],
   "source": [
    "toe = np.triu(toeplitz(range(1,11)))\n",
    "LaTeX_matrix(toe)"
   ]
  },
  {
   "cell_type": "code",
   "execution_count": null,
   "metadata": {
    "collapsed": true
   },
   "outputs": [],
   "source": []
  }
 ],
 "metadata": {
  "kernelspec": {
   "display_name": "Python 2",
   "language": "python",
   "name": "python2"
  },
  "language_info": {
   "codemirror_mode": {
    "name": "ipython",
    "version": 2
   },
   "file_extension": ".py",
   "mimetype": "text/x-python",
   "name": "python",
   "nbconvert_exporter": "python",
   "pygments_lexer": "ipython2",
   "version": "2.7.8"
  }
 },
 "nbformat": 4,
 "nbformat_minor": 2
}
