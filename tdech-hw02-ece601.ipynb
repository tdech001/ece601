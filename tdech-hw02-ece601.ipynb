{
 "cells": [
  {
   "cell_type": "markdown",
   "metadata": {},
   "source": [
    "# Tim DeChant\n",
    "# ECE 601 - Dr. Gray\n",
    "# Homework #2\n",
    " Due 9/14/2017"
   ]
  },
  {
   "cell_type": "markdown",
   "metadata": {},
   "source": [
    "## 1. Equilibria and Linearization\n",
    "\n",
    "$$\n",
    "\\begin{eqnarray}\n",
    "\t\\dot{x} & = & F(x,u), &&  x(0) & given            \\nonumber \\\\\n",
    "\t      y & = & G(x,y).                         \\nonumber \\\\\n",
    "\\end{eqnarray}\n",
    "$$"
   ]
  },
  {
   "cell_type": "markdown",
   "metadata": {},
   "source": [
    "### (a) Computing *equilibrium state* and *equilibrium input*"
   ]
  },
  {
   "cell_type": "markdown",
   "metadata": {},
   "source": [
    "For fixed $x$, we know that $\\dot{x}=F(x)=\\underline{0}$.  If $F$ is linear, we will have a single linear relation $x_{1e}=F'(u_{1e})$; generally though, each root of $F$ will yield its own such linear relation.  Therefore pairs of $(x_e,u_e)$ are not unique."
   ]
  },
  {
   "cell_type": "markdown",
   "metadata": {},
   "source": [
    "### (b) Deriving explicit model for linear model"
   ]
  },
  {
   "cell_type": "markdown",
   "metadata": {},
   "source": []
  },
  {
   "cell_type": "markdown",
   "metadata": {},
   "source": [
    "### (c) Describe equilibria for each system"
   ]
  },
  {
   "cell_type": "markdown",
   "metadata": {},
   "source": [
    "  #### (i) $\\begin{eqnarray} \\dot{x} & = & sin(x) + cos(2u), \\nonumber \\\\ y & = & \\frac{x^2}{2} \\nonumber \\end{eqnarray}$\n",
    "\n",
    "\n",
    "\n",
    "\n",
    "\n",
    "  #### (ii) $\\begin{eqnarray} \\dot{x_1} & = & x_1x_2 + u, \\nonumber \\\\ \\dot{x_2} & = & 1 - x_1x_2, \\nonumber \\\\ y & = & x_1^2 + x_2^2 \\nonumber \\end{eqnarray}$\n",
    "\n",
    "\n",
    "\n",
    "\n",
    "\n",
    "  #### (iii) $\n",
    "\\begin{eqnarray}\n",
    "\t\\dot{x}_1 & = &\t\\frac{I_2 - I_3}{I_1} x_2 x_3 + b_1 u_1 ,     \\nonumber \\\\\n",
    "\t\\dot{x}_2 & = &\t\\frac{I_3 - I_1}{I_2} x_3 x_1 + b_2 u_2 ,     \\nonumber \\\\\n",
    "\t\\dot{x}_3 & = &\t\\frac{I_1 - I_2}{I_3} x_1 x_2 + b_3 u_3       \\nonumber\n",
    "\\end{eqnarray}\n",
    "$\n",
    "\n",
    "\n",
    "\n"
   ]
  },
  {
   "cell_type": "markdown",
   "metadata": {},
   "source": [
    "### (d) Determine linear state space model for each system"
   ]
  },
  {
   "cell_type": "markdown",
   "metadata": {},
   "source": [
    "  #### (i) $\\begin{eqnarray} \\dot{x} & = & sin(x) + cos(2u), \\nonumber \\\\ y & = & \\frac{x^2}{2} \\nonumber \\end{eqnarray}$\n",
    "\n",
    "\n",
    "\n",
    "\n",
    "\n",
    "  #### (ii) $\\begin{eqnarray} \\dot{x_1} & = & x_1x_2 + u, \\nonumber \\\\ \\dot{x_2} & = & 1 - x_1x_2, \\nonumber \\\\ y & = & x_1^2 + x_2^2 \\nonumber \\end{eqnarray}$\n",
    "\n",
    "\n",
    "\n",
    "\n",
    "\n",
    "  #### (iii) $\n",
    "\\begin{eqnarray}\n",
    "\t\\dot{x}_1 & = &\t\\frac{I_2 - I_3}{I_1} x_2 x_3 + b_1 u_1 ,     \\nonumber \\\\\n",
    "\t\\dot{x}_2 & = &\t\\frac{I_3 - I_1}{I_2} x_3 x_1 + b_2 u_2 ,     \\nonumber \\\\\n",
    "\t\\dot{x}_3 & = &\t\\frac{I_1 - I_2}{I_3} x_1 x_2 + b_3 u_3       \\nonumber\n",
    "\\end{eqnarray}\n",
    "$\n",
    "\n",
    "\n",
    "\n"
   ]
  },
  {
   "cell_type": "markdown",
   "metadata": {},
   "source": []
  },
  {
   "cell_type": "markdown",
   "metadata": {},
   "source": [
    "## 2 Two Operators on the Vector Space ${\\rm I\\!R}^{n×n}$\n",
    "$$\n",
    "\\begin{eqnarray}\n",
    "\\mathcal{S}: && {\\rm I\\!R}^{n×n} \\rightarrow {\\rm I\\!R}^{n×n} & : & M \\mapsto \\frac{M+M^T}{2} \\nonumber \\\\\n",
    "\\mathcal{A}: && {\\rm I\\!R}^{n×n} \\rightarrow {\\rm I\\!R}^{n×n} & : & M \\mapsto \\frac{M-M^T}{2} \\nonumber\n",
    "\\end{eqnarray}\n",
    "$$\n"
   ]
  },
  {
   "cell_type": "markdown",
   "metadata": {},
   "source": [
    "### (a) Are these operations linear?"
   ]
  },
  {
   "cell_type": "markdown",
   "metadata": {},
   "source": []
  },
  {
   "cell_type": "markdown",
   "metadata": {},
   "source": [
    "### (b) Determine the null space and range space of each operator."
   ]
  },
  {
   "cell_type": "markdown",
   "metadata": {},
   "source": []
  },
  {
   "cell_type": "markdown",
   "metadata": {},
   "source": [
    "### (c) What are the eigenvectors and eigenvalues of $\\mathcal{S}$ and $\\mathcal{A}$ ?"
   ]
  },
  {
   "cell_type": "markdown",
   "metadata": {},
   "source": []
  }
 ],
 "metadata": {
  "kernelspec": {
   "display_name": "Python 3",
   "language": "python",
   "name": "python3"
  },
  "language_info": {
   "codemirror_mode": {
    "name": "ipython",
    "version": 3
   },
   "file_extension": ".py",
   "mimetype": "text/x-python",
   "name": "python",
   "nbconvert_exporter": "python",
   "pygments_lexer": "ipython3",
   "version": "3.6.2"
  }
 },
 "nbformat": 4,
 "nbformat_minor": 2
}
