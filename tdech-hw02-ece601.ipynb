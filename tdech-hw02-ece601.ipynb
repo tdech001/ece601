{
 "cells": [
  {
   "cell_type": "markdown",
   "metadata": {},
   "source": [
    "# Tim DeChant\n",
    "# ECE 601 - Dr. Gray\n",
    "# Homework #2\n",
    " Due 9/14/2017"
   ]
  },
  {
   "cell_type": "markdown",
   "metadata": {},
   "source": [
    "## 1. Equilibria and Linearization\n",
    "\n",
    "$$\n",
    "\\begin{eqnarray}\n",
    "\t\\dot{x} & = & F(x,u), &&  x(0) & given            \\nonumber \\\\\n",
    "\t      y & = & G(x,y).                         \\nonumber \\\\\n",
    "\\end{eqnarray}\n",
    "$$"
   ]
  },
  {
   "cell_type": "markdown",
   "metadata": {},
   "source": [
    "### (a) Computing *equilibrium state* and *equilibrium input*"
   ]
  },
  {
   "cell_type": "markdown",
   "metadata": {},
   "source": [
    "For fixed $x$, we know that $\\dot{x}=F(x)=\\underline{0}$.  If $F$ is linear, we will have a single linear relation $x_{e}=F_0(u_{e})$; generally though, each root of $F$ will yield its own such linear relation.  Therefore pairs of $(x_e,u_e)$ are not unique."
   ]
  },
  {
   "cell_type": "markdown",
   "metadata": {},
   "source": [
    "### (b) Deriving explicit formula for linear model about an equilibrium"
   ]
  },
  {
   "cell_type": "markdown",
   "metadata": {},
   "source": [
    "$$\n",
    "\\begin{eqnarray}\n",
    "\\require{enclose}\n",
    "                                  \\dot{x}_i &    =    & F_i(x,u)                                      \\nonumber \\\\\n",
    "          \\frac{d}{dt}(x_{ei} + \\Delta x_i) &    =    & F_i(x_e + \\Delta x, u_e + \\Delta u)           \\nonumber \\\\\n",
    "\\enclose{updiagonalstrike}{\\dot{x}_{ei}}\n",
    "                   + \\frac{d}{dt}\\Delta x_i & \\approx & \\enclose{updiagonalstrike}{F_i(x_e,u_e)}\n",
    "                                              + \\frac{\\delta F_i}{\\delta x} \\bigg|_{x_e} \\Delta x\n",
    "                                              + \\frac{\\delta F_i}{\\delta u} \\bigg|_{u_e} \\Delta u     \\nonumber \\\\\n",
    "\\end{eqnarray}\n",
    "$$"
   ]
  },
  {
   "cell_type": "markdown",
   "metadata": {},
   "source": [
    "$$\n",
    "\\frac{d}{dt}\\Delta x =\n",
    "\\begin{bmatrix}\n",
    "\t\t\\frac{\\delta F_1}{\\delta x} \\bigg|_{x_e}  \\\\\n",
    "\t\t\\vdots                                    \\\\\n",
    "\t\t\\frac{\\delta F_n}{\\delta x} \\bigg|_{x_e}\n",
    "\\end{bmatrix}\n",
    "\\Delta x +\n",
    "\\begin{bmatrix}\n",
    "\t\t\\frac{\\delta F_1}{\\delta u} \\bigg|_{u_e}  \\\\\n",
    "\t\t\\vdots                                    \\\\\n",
    "\t\t\\frac{\\delta F_n}{\\delta u} \\bigg|_{u_e}\n",
    "\\end{bmatrix}\n",
    "\\Delta u                                                                                              \\nonumber \\\\ \\nonumber \\\\\n",
    "$$"
   ]
  },
  {
   "cell_type": "markdown",
   "metadata": {},
   "source": [
    "$$\n",
    "\\begin{eqnarray}\n",
    "                                        y_i &    =    & H_i(x,u)                                      \\nonumber \\\\\n",
    "                        y_{ei} + \\Delta y_i &    =    & H_i(x_e + \\Delta x, u_e + \\Delta u)           \\nonumber \\\\\n",
    "\\enclose{updiagonalstrike}{y_{ei}}\n",
    "                               + \\Delta y_i & \\approx & \\enclose{updiagonalstrike}{H_i(x_e,u_e)}\n",
    "                                              + \\frac{\\delta H_i}{\\delta x} \\bigg|_{x_e} \\Delta x\n",
    "                                              + \\frac{\\delta H_i}{\\delta u} \\bigg|_{u_e} \\Delta u   \\nonumber \\\\ \\nonumber \\\\\n",
    "\\end{eqnarray}\n",
    "$$"
   ]
  },
  {
   "cell_type": "markdown",
   "metadata": {},
   "source": [
    "$$\n",
    "\\Delta y =\n",
    "\\begin{bmatrix}\n",
    "\t\t\\frac{\\delta H_1}{\\delta x} \\bigg|_{x_e}  \\\\\n",
    "\t\t\\vdots                                    \\\\\n",
    "\t\t\\frac{\\delta H_n}{\\delta x} \\bigg|_{x_e}\n",
    "\\end{bmatrix}\n",
    "\\Delta x +\n",
    "\\begin{bmatrix}\n",
    "\t\t\\frac{\\delta H_1}{\\delta u} \\bigg|_{u_e}  \\\\\n",
    "\t\t\\vdots                                    \\\\\n",
    "\t\t\\frac{\\delta H_n}{\\delta u} \\bigg|_{u_e}\n",
    "\\end{bmatrix}\n",
    "\\Delta u                                                                                              \\nonumber \\\\ \\nonumber \\\\\n",
    "$$"
   ]
  },
  {
   "cell_type": "markdown",
   "metadata": {},
   "source": [
    "$$\n",
    "(A,B,C,D) =\n",
    "\\begin{eqnarray}\n",
    "\\left(\n",
    "\\begin{bmatrix}\n",
    "\t\t\\frac{\\delta F_1}{\\delta x_1} & \\frac{\\delta F_1}{\\delta x_2} & \\cdots & \\frac{\\delta F_1}{\\delta x_n} \\\\\n",
    "\t\t\\frac{\\delta F_2}{\\delta x_1} & \\frac{\\delta F_2}{\\delta x_2} & \\cdots & \\frac{\\delta F_2}{\\delta x_n} \\\\\n",
    "\t\t\\vdots                        & \\vdots                        & \\ddots & \\vdots                        \\\\\n",
    "\t\t\\frac{\\delta F_n}{\\delta x_1} & \\frac{\\delta F_n}{\\delta x_2} & \\cdots & \\frac{\\delta F_n}{\\delta x_n} \\\\\n",
    "\\end{bmatrix},\\right. &\n",
    "\\begin{bmatrix}\n",
    "\t\t\\frac{\\delta F_1}{\\delta u_1} & \\frac{\\delta F_1}{\\delta u_2} & \\cdots & \\frac{\\delta F_1}{\\delta u_n} \\\\\n",
    "\t\t\\frac{\\delta F_2}{\\delta u_1} & \\frac{\\delta F_2}{\\delta u_2} & \\cdots & \\frac{\\delta F_2}{\\delta u_n} \\\\\n",
    "\t\t\\vdots                        & \\vdots                        & \\ddots & \\vdots                        \\\\\n",
    "\t\t\\frac{\\delta F_n}{\\delta u_1} & \\frac{\\delta F_n}{\\delta u_2} & \\cdots & \\frac{\\delta F_n}{\\delta u_n} \\\\\n",
    "\\end{bmatrix} \\nonumber \\\\\n",
    "\\begin{bmatrix}\n",
    "\t\t\\frac{\\delta H_1}{\\delta x_1} & \\frac{\\delta H_1}{\\delta x_2} & \\cdots & \\frac{\\delta H_1}{\\delta x_n} \\\\\n",
    "\t\t\\frac{\\delta H_2}{\\delta x_1} & \\frac{\\delta H_2}{\\delta x_2} & \\cdots & \\frac{\\delta H_2}{\\delta x_n} \\\\\n",
    "\t\t\\vdots                        & \\vdots                        & \\ddots & \\vdots                        \\\\\n",
    "\t\t\\frac{\\delta H_n}{\\delta x_1} & \\frac{\\delta H_n}{\\delta x_2} & \\cdots & \\frac{\\delta H_n}{\\delta x_n} \\\\\n",
    "\\end{bmatrix}, &\n",
    "\\left.\n",
    "\\begin{bmatrix}\n",
    "\t\t\\frac{\\delta H_1}{\\delta u_1} & \\frac{\\delta H_1}{\\delta u_2} & \\cdots & \\frac{\\delta H_1}{\\delta u_n} \\\\\n",
    "\t\t\\frac{\\delta H_2}{\\delta u_1} & \\frac{\\delta H_2}{\\delta u_2} & \\cdots & \\frac{\\delta H_2}{\\delta u_n} \\\\\n",
    "\t\t\\vdots                        & \\vdots                        & \\ddots & \\vdots                        \\\\\n",
    "\t\t\\frac{\\delta H_n}{\\delta u_1} & \\frac{\\delta H_n}{\\delta u_2} & \\cdots & \\frac{\\delta H_n}{\\delta u_n} \\\\\n",
    "\\end{bmatrix}\n",
    "\\right) \\nonumber \\\\\n",
    "\\end{eqnarray}\n",
    "$$"
   ]
  },
  {
   "cell_type": "markdown",
   "metadata": {},
   "source": [
    "### (c) Describe equilibria for each system"
   ]
  },
  {
   "cell_type": "markdown",
   "metadata": {},
   "source": [
    "  #### (i) $\\begin{eqnarray} \\dot{x} = sin(x) + cos(2u), &&& y = x^2/2 \\end{eqnarray}$"
   ]
  },
  {
   "cell_type": "markdown",
   "metadata": {},
   "source": [
    "$$\n",
    "\\begin{eqnarray}\n",
    "         sin(x_e) & = & -cos(2u_e)                                        \\nonumber \\\\\n",
    "                  & = & cos(2u_e - \\pi)                                   \\nonumber \\\\\n",
    "                  & = & sin(2u_e - \\pi + \\pi/2)                           \\nonumber \\\\ \\nonumber \\\\\n",
    "              x_e & = & 2u_e + (2k-1/2)\\pi, && k \\in \\mathbb{Z}           \\nonumber \\\\\n",
    "              u_e & = & x_e/2 - (k-1/4)\\pi                                \\nonumber \\\\\n",
    "              y_e & = & x_e^2/2                                           \\nonumber \\\\\n",
    "\\end{eqnarray}\n",
    "$$\n",
    "\n"
   ]
  },
  {
   "cell_type": "markdown",
   "metadata": {},
   "source": [
    "**Any initial state can be a *equilibrium state*, provided the *equilibrium input* is appropriately scaled and shifted; in that case the state feedback and input terms cancel out, leaving the overall state unchanged.**"
   ]
  },
  {
   "cell_type": "markdown",
   "metadata": {},
   "source": [
    "  #### (ii) $\\begin{eqnarray} \\dot{x}_1 = x_1x_2 + u, &&& \\dot{x}_2 = 1 - x_1x_2, &&& y = x_1^2 + x_2^2\\end{eqnarray}$"
   ]
  },
  {
   "cell_type": "markdown",
   "metadata": {},
   "source": [
    "$$\n",
    "\\begin{eqnarray}\n",
    "             u_e & = & -x_{e1}x_{e2}       &&and&&               &   &      1 & = &     x_{e1}x_{e2} \\nonumber \\\\\n",
    "             u_e & = & -1                  &&and&&               &   & x_{e2} & = & 1 / x_{e1}       \\nonumber \\\\ \\\\\n",
    "             y_e & = & x_{e1}^2 + x_{e1}^{-2}\n",
    "\\end{eqnarray}\n",
    "$$"
   ]
  },
  {
   "cell_type": "markdown",
   "metadata": {},
   "source": [
    "**Provided the states of both stages are reciprocals of one another, they can be held in equilibrium by an input of -1.**"
   ]
  },
  {
   "cell_type": "markdown",
   "metadata": {},
   "source": [
    "  #### (iii) $ \\dot{x} =\t\n",
    "\\begin{bmatrix}\n",
    "\ta_1 x_2 x_3 + b_1 u_1 \\\\\n",
    "\ta_2 x_3 x_1 + b_2 u_2 \\\\\n",
    "\ta_3 x_1 x_2 + b_3 u_3\n",
    "\\end{bmatrix},\n",
    "\\begin{cases}\n",
    "\ta_1 = \\frac{I_2 - I_3}{I_1}   \\nonumber \\\\\n",
    "\ta_2 = \\frac{I_3 - I_1}{I_2}    \\nonumber \\\\\n",
    "\ta_3 = \\frac{I_1 - I_2}{I_3}    \\nonumber\n",
    "\\end{cases}\n",
    "$"
   ]
  },
  {
   "cell_type": "markdown",
   "metadata": {},
   "source": [
    "$$\n",
    "\\begin{eqnarray}\n",
    "\t     0 & = & a_1 x_{e2} x_{e3} + b_1 u_{e1}        &&& and &&&\n",
    "\t     0 & = & a_2 x_{e3} x_{e1} + b_2 u_{e2}        &&& and &&&\n",
    "\t     0 & = & a_3 x_{e1} x_{e2} + b_3 u_{e3}        \\nonumber \\\\\n",
    "\tu_{e1} & = & \\frac{-a_1}{b_1} x_{e2} x_{e3}        &&& and &&&\n",
    "\tu_{e2} & = & \\frac{-a_2}{b_2} x_{e3} x_{e1}        &&& and &&&\n",
    "\tu_{e3} & = & \\frac{-a_3}{b_3} x_{e1} x_{e2}        \\nonumber \\\\\n",
    "\\end{eqnarray}\n",
    "$$"
   ]
  },
  {
   "cell_type": "markdown",
   "metadata": {},
   "source": [
    "**Any initial condition can be held as *equilibrium state*, provided that the momentum wheel for each axis maintains a torque  proportional (with specified factors) to the product of the angular velocities of the other two axes.**"
   ]
  },
  {
   "cell_type": "markdown",
   "metadata": {},
   "source": [
    "### (d) Determine linear state space model for each system"
   ]
  },
  {
   "cell_type": "markdown",
   "metadata": {},
   "source": [
    "  #### (i) $\\begin{eqnarray} \\dot{x} = sin(x) + cos(2u), &&& y = x^2/2 \\end{eqnarray}$"
   ]
  },
  {
   "cell_type": "markdown",
   "metadata": {},
   "source": [
    "$$\n",
    "\\begin{eqnarray}\n",
    "   \\frac{d}{dt}\\Delta x & = & A \\Delta x + B \\Delta u                           \\nonumber \\\\\n",
    "                        & = & A (x-x_e)  + B (u-u_e)                            \\nonumber \\\\ \\nonumber \\\\\n",
    "               \\Delta y & = & C \\Delta x + D \\Delta u                           \\nonumber \\\\\n",
    "                        & = & C (x-x_e)  + D (u-u_e)                            \\nonumber \\\\ \\nonumber \\\\\n",
    "              (A,B,C,D) & = & \\bigg(\\begin{bmatrix}\\frac{\\delta}{\\delta x}(sin(x)+cos(2u))\\end{bmatrix}_{x_e},\n",
    "                                    \\begin{bmatrix}\\frac{\\delta}{\\delta u}(sin(x)+cos(2u))\\end{bmatrix}_{u_e}, \\nonumber \\\\\n",
    "                        &   &       \\begin{bmatrix}\\frac{\\delta}{\\delta x}(x^2/2)\\end{bmatrix}_{x_e},\n",
    "                                    \\begin{bmatrix}\\frac{\\delta}{\\delta u}(x^2/2)\\end{bmatrix}_{u_e}\\bigg) \\nonumber \\\\\n",
    "                        & = & \\bigg(\\begin{bmatrix}cos(x_e)\\end{bmatrix},\n",
    "                                    \\begin{bmatrix}2sin(2u_e)\\end{bmatrix},\n",
    "                                    \\begin{bmatrix}x_e\\end{bmatrix},\n",
    "                                    \\begin{bmatrix}0\\end{bmatrix}\\bigg)          \\nonumber \\\\ \\nonumber \\\\\n",
    "\\end{eqnarray}\n",
    "$$\n"
   ]
  },
  {
   "cell_type": "markdown",
   "metadata": {},
   "source": [
    "$$\n",
    "\\left.\n",
    "\\right.\\\\\n",
    "\\left.\n",
    "\\right.\\\\\n",
    "$$"
   ]
  },
  {
   "cell_type": "markdown",
   "metadata": {},
   "source": [
    "$$\n",
    "\\left.\n",
    "\\right.\\\\\n",
    "\\left.\n",
    "\\right.\\\\\n",
    "$$"
   ]
  },
  {
   "cell_type": "markdown",
   "metadata": {},
   "source": [
    "$$\n",
    "\\left.\n",
    "\\right.\\\\\n",
    "\\left.\n",
    "\\right.\\\\\n",
    "$$"
   ]
  },
  {
   "cell_type": "markdown",
   "metadata": {},
   "source": [
    "  #### (ii) $\\begin{eqnarray} \\dot{x}_1 = x_1x_2 + u, &&& \\dot{x}_2 = 1 - x_1x_2, &&& y = x_1^2 + x_2^2\\end{eqnarray}$"
   ]
  },
  {
   "cell_type": "markdown",
   "metadata": {},
   "source": [
    "$$\n",
    "\\begin{eqnarray}\n",
    "   \\frac{d}{dt}\\Delta x & = & A \\Delta x + B \\Delta u                           \\nonumber \\\\\n",
    "                        & = & A (x-x_e)  + B (u-u_e)                            \\nonumber \\\\ \\nonumber \\\\\n",
    "               \\Delta y & = & C \\Delta x + D \\Delta u                           \\nonumber \\\\\n",
    "                        & = & C (x-x_e)  + D (u-u_e)                            \\nonumber \\\\ \\nonumber \\\\\n",
    "              (A,B,C,D) & = & \\Bigg(\n",
    "                               \\begin{bmatrix}\n",
    "                                \\frac{\\delta}{\\delta x_1}(x_1x_2+u) & \\frac{\\delta}{\\delta x_2}(x_1x_2+u) \\\\\n",
    "                                \\frac{\\delta}{\\delta x_1}(1-x_1x_2) & \\frac{\\delta}{\\delta x_2}(1-x_1x_2) \\\\\n",
    "                               \\end{bmatrix}_{x_e}, &\n",
    "                               \\begin{bmatrix}\n",
    "                                \\frac{\\delta}{\\delta u}(x_1x_2+u) \\\\\n",
    "                                \\frac{\\delta}{\\delta u}(1-x_1x_2) \\\\\n",
    "                               \\end{bmatrix}_{u_e},                              \\nonumber \\\\\n",
    "                        &   &  \\begin{bmatrix}\n",
    "                                \\frac{\\delta}{\\delta x_1}(x_1^2+x_2^2) & \\frac{\\delta}{\\delta x_2}(x_1^2+x_2^2) \\\\\n",
    "                               \\end{bmatrix}_{x_e}, &\n",
    "                               \\begin{bmatrix}\n",
    "                                \\frac{\\delta}{\\delta u}(x_1^2+x_2^2) \\\\\n",
    "                               \\end{bmatrix}_{u_e}\n",
    "                              \\Bigg)                                            \\nonumber \\\\\n",
    "                        & = & \\bigg(\n",
    "                               \\begin{bmatrix}\n",
    "                                x_{2e} & x_{1e} \\\\\n",
    "                                -x_{2e} & -x_{1e} \\\\\n",
    "                               \\end{bmatrix},\n",
    "                               \\begin{bmatrix}\n",
    "                                1 \\\\\n",
    "                                0 \\\\\n",
    "                               \\end{bmatrix},\n",
    "                               \\begin{bmatrix}\n",
    "                                2x_{1e} & 2x_{2e} \\\\\n",
    "                               \\end{bmatrix},\n",
    "                               \\begin{bmatrix}\n",
    "                                0 \\\\\n",
    "                               \\end{bmatrix}\n",
    "                              \\bigg)                                            \\nonumber \\\\\n",
    "\\end{eqnarray}\n",
    "$$\n"
   ]
  },
  {
   "cell_type": "markdown",
   "metadata": {},
   "source": [
    "  #### (iii) $ \\dot{x} =\t\n",
    "\\begin{bmatrix}\n",
    "\ta_1 x_2 x_3 + b_1 u_1 \\\\\n",
    "\ta_2 x_3 x_1 + b_2 u_2 \\\\\n",
    "\ta_3 x_1 x_2 + b_3 u_3\n",
    "\\end{bmatrix},\n",
    "\\begin{cases}\n",
    "\ta_1 = \\frac{I_2 - I_3}{I_1}   \\nonumber \\\\\n",
    "\ta_2 = \\frac{I_3 - I_1}{I_2}    \\nonumber \\\\\n",
    "\ta_3 = \\frac{I_1 - I_2}{I_3}    \\nonumber\n",
    "\\end{cases}\n",
    "$"
   ]
  },
  {
   "cell_type": "markdown",
   "metadata": {},
   "source": [
    "$$\n",
    "\\begin{eqnarray}\n",
    "   \\frac{d}{dt}\\Delta x & = & A \\Delta x + B \\Delta u                           \\nonumber \\\\\n",
    "                        & = & A (x-x_e)  + B (u-u_e)                            \\nonumber \\\\ \\nonumber \\\\\n",
    "(A,B) & = & \\Bigg(\n",
    "             \\begin{bmatrix}\n",
    "              \\frac{\\delta}{\\delta x_1}(a_1x_2x_3+b_1u_1) &\n",
    "              \\frac{\\delta}{\\delta x_2}(a_1x_2x_3+b_1u_1) &\n",
    "              \\frac{\\delta}{\\delta x_3}(a_1x_2x_3+b_1u_1) \\\\\n",
    "              \\frac{\\delta}{\\delta x_1}(a_2x_3x_1+b_2u_2) &\n",
    "              \\frac{\\delta}{\\delta x_2}(a_2x_3x_1+b_2u_2) &\n",
    "              \\frac{\\delta}{\\delta x_3}(a_2x_3x_1+b_2u_2) \\\\\n",
    "              \\frac{\\delta}{\\delta x_1}(a_3x_1x_2+b_3u_3) &\n",
    "              \\frac{\\delta}{\\delta x_2}(a_3x_1x_2+b_3u_3) &\n",
    "              \\frac{\\delta}{\\delta x_3}(a_3x_1x_2+b_3u_3) \\\\\n",
    "             \\end{bmatrix}_{x_e},                                               \\nonumber \\\\\n",
    "      &   &  \\begin{bmatrix}\n",
    "              \\frac{\\delta}{\\delta u_1}(a_1x_2x_3+b_1u_1) &\n",
    "              \\frac{\\delta}{\\delta u_2}(a_1x_2x_3+b_1u_1) &\n",
    "              \\frac{\\delta}{\\delta u_3}(a_1x_2x_3+b_1u_1) \\\\\n",
    "              \\frac{\\delta}{\\delta u_1}(a_2x_3x_1+b_2u_2) &\n",
    "              \\frac{\\delta}{\\delta u_2}(a_2x_3x_1+b_2u_2) &\n",
    "              \\frac{\\delta}{\\delta u_3}(a_2x_3x_1+b_2u_2) \\\\\n",
    "              \\frac{\\delta}{\\delta u_1}(a_3x_1x_2+b_3u_3) &\n",
    "              \\frac{\\delta}{\\delta u_2}(a_3x_1x_2+b_3u_3) &\n",
    "              \\frac{\\delta}{\\delta u_3}(a_3x_1x_2+b_3u_3) \\\\\n",
    "             \\end{bmatrix}_{u_e}\n",
    "            \\Bigg)                                            \\nonumber \\\\\n",
    "      & = & \\Bigg(\n",
    "             \\begin{bmatrix}\n",
    "              0 &\n",
    "              a_1x_{3e} &\n",
    "              a_1x_{2e} \\\\\n",
    "              a_2x_{3e} &\n",
    "              0 &\n",
    "              a_2x_{1e} \\\\\n",
    "              a_3x_{2e} &\n",
    "              a_3x_{1e} &\n",
    "              0 \\\\\n",
    "             \\end{bmatrix},\n",
    "             \\begin{bmatrix}\n",
    "              b_1 &\n",
    "              0 &\n",
    "              0 \\\\\n",
    "              0 &\n",
    "              b_2 &\n",
    "              0 \\\\\n",
    "              0 &\n",
    "              0 &\n",
    "              b_3 \\\\\n",
    "             \\end{bmatrix}\n",
    "            \\Bigg)                                            \\nonumber \\\\\n",
    "\\end{eqnarray}\n",
    "$$\n"
   ]
  },
  {
   "cell_type": "markdown",
   "metadata": {},
   "source": [
    "$$\n",
    "\\begin{eqnarray}\n",
    "\t     0 & = & a_1 x_{e2} x_{e3} + b_1 u_{e1}        &&& and &&&\n",
    "\t     0 & = & a_2 x_{e3} x_{e1} + b_2 u_{e2}        &&& and &&&\n",
    "\t     0 & = & a_3 x_{e1} x_{e2} + b_3 u_{e3}        \\nonumber \\\\\n",
    "\tu_{e1} & = & \\frac{-a_1}{b_1} x_{e2} x_{e3}        &&& and &&&\n",
    "\tu_{e2} & = & \\frac{-a_2}{b_2} x_{e3} x_{e1}        &&& and &&&\n",
    "\tu_{e3} & = & \\frac{-a_3}{b_3} x_{e1} x_{e2}        \\nonumber \\\\\n",
    "\\end{eqnarray}\n",
    "$$"
   ]
  },
  {
   "cell_type": "markdown",
   "metadata": {},
   "source": [
    "## 2 Two Operators on the Vector Space ${\\rm I\\!R}^{n×n}$\n",
    "$$\n",
    "\\begin{eqnarray}\n",
    "\\mathcal{S}: && {\\rm I\\!R}^{n×n} \\rightarrow {\\rm I\\!R}^{n×n} & : & M \\mapsto \\frac{M+M^T}{2} \\nonumber \\\\\n",
    "\\mathcal{A}: && {\\rm I\\!R}^{n×n} \\rightarrow {\\rm I\\!R}^{n×n} & : & M \\mapsto \\frac{M-M^T}{2} \\nonumber\n",
    "\\end{eqnarray}\n",
    "$$\n"
   ]
  },
  {
   "cell_type": "markdown",
   "metadata": {},
   "source": [
    "### (a) Are these operations linear?"
   ]
  },
  {
   "cell_type": "markdown",
   "metadata": {},
   "source": [
    "Yes, we can show this by superposition:\n",
    "$$\n",
    "\\mathcal{S}: \\frac{(c_1m_{ij_1} + c_2m_{ij_2}) + (c_1m_{ji_1} + c_2m_{ji_2})}{2} = c_1\\frac{m_{ij_1} + m_{ji_1}}{2} + c_2\\frac{m_{ij_2} + m_{ji_2}}{2}\n",
    "$$\n",
    "$$\n",
    "\\mathcal{A}: \\frac{(c_1m_{ij_1} + c_2m_{ij_2}) - (c_1m_{ji_1} + c_2m_{ji_2})}{2} = c_1\\frac{m_{ij_1} - m_{ji_1}}{2} + c_2\\frac{m_{ij_2} - m_{ji_2}}{2}\n",
    "$$"
   ]
  },
  {
   "cell_type": "markdown",
   "metadata": {},
   "source": [
    "### (b) Determine the null space and range space of each operator."
   ]
  },
  {
   "cell_type": "markdown",
   "metadata": {},
   "source": [
    "#### Null Space\n",
    "$N(\\mathcal{S})$ is the set of *skew symmetric* matrices: $m_{ij}=-m_{ji}$.  (Note: this implies that diagonal is zeros.)\n",
    "\n",
    "$N(\\mathcal{A})$ is the set of all symmetric matrices: $m_{ij}=m_{ji}$."
   ]
  },
  {
   "cell_type": "markdown",
   "metadata": {},
   "source": [
    "#### Range Space\n",
    "$R(\\mathcal{S})$ is the set of all symmetric matrices.\n",
    "\n",
    "$R(\\mathcal{A})$ is the set of all symmetric matrices with zeroes on the diagonal: $i=j \\rightarrow m_{ij}=m_{ji} \\rightarrow \\bar{m}_{ij}=\\frac{m_{ij}-m_{ji}}{2}=0$."
   ]
  },
  {
   "cell_type": "markdown",
   "metadata": {},
   "source": [
    "### (c) What are the eigenvectors and eigenvalues of $\\mathcal{S}$ and $\\mathcal{A}$ ?"
   ]
  },
  {
   "cell_type": "markdown",
   "metadata": {},
   "source": [
    "$\\mathcal{S}$ has no effect on symmetric matrices: $m_{ij}=m_{ji}=\\frac{m_{ij}+m_{ji}}{2}$. Thus the eigenvectors of $\\mathcal{S}$ compose the basis of symmetric matrices:\n",
    "$$\n",
    "\\left(\n",
    "   \\begin{bmatrix} 1 & 0 & 0 \\\\\n",
    "                   0 & 0 & 0 \\\\\n",
    "                   0 & 0 & 0 \\end{bmatrix},\n",
    "   \\begin{bmatrix} 0 & 0 & 0 \\\\\n",
    "                   0 & 1 & 0 \\\\\n",
    "                   0 & 0 & 0 \\end{bmatrix},\n",
    "   \\begin{bmatrix} 0 & 0 & 0 \\\\\n",
    "                   0 & 0 & 0 \\\\\n",
    "                   0 & 0 & 1 \\end{bmatrix},\n",
    "   \\begin{bmatrix} 0 & 1 & 0 \\\\\n",
    "                   1 & 0 & 0 \\\\\n",
    "                   0 & 0 & 0 \\end{bmatrix},\n",
    "   \\begin{bmatrix} 0 & 0 & 1 \\\\\n",
    "                   0 & 0 & 0 \\\\\n",
    "                   1 & 0 & 0 \\end{bmatrix},\n",
    "   \\begin{bmatrix} 0 & 0 & 0 \\\\\n",
    "                   0 & 0 & 1 \\\\\n",
    "                   0 & 1 & 0 \\end{bmatrix}\n",
    "\\right)\n",
    "$$\n",
    "The eigenvalues are all one."
   ]
  },
  {
   "cell_type": "markdown",
   "metadata": {},
   "source": [
    "$\\mathcal{A}$ has no eigenvectors: all outputs are symmetric, but symmetric matrices compose the null space."
   ]
  }
 ],
 "metadata": {
  "kernelspec": {
   "display_name": "Python 2",
   "language": "python",
   "name": "python2"
  },
  "language_info": {
   "codemirror_mode": {
    "name": "ipython",
    "version": 2
   },
   "file_extension": ".py",
   "mimetype": "text/x-python",
   "name": "python",
   "nbconvert_exporter": "python",
   "pygments_lexer": "ipython2",
   "version": "2.7.8"
  }
 },
 "nbformat": 4,
 "nbformat_minor": 2
}
