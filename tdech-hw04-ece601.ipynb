{
 "cells": [
  {
   "cell_type": "markdown",
   "metadata": {},
   "source": [
    "# Tim DeChant\n",
    "# ECE 601 - Dr. Gray\n",
    "# Homework #4\n",
    " Due 9/28/2017"
   ]
  },
  {
   "cell_type": "markdown",
   "metadata": {},
   "source": [
    "### 1. Kailath 2.2-6. *Cascade Form*"
   ]
  },
  {
   "cell_type": "markdown",
   "metadata": {},
   "source": [
    "Draw a block diagram corresponding to the realization\n",
    "$$\n",
    "A = \\left[\n",
    "\\begin{array}{}\n",
    "\\begin{matrix}\\lambda_1&c_2&c_3\\\\&\\lambda_2&c_3\\\\&&\\lambda_3\\end{matrix} & \\cdots & \\begin{matrix}c_{n-1}&1\\\\c_{n-1}&1\\\\c_{n-1}&1\\end{matrix} \\\\\n",
    "\\huge{\\bigcirc} & \\begin{matrix}\\ddots\\\\\\\\\\\\\\end{matrix}& \\begin{matrix}\\vdots\\\\\\lambda_{n-1}&1\\\\&\\lambda_n\\end{matrix}\n",
    "\\end{array}\n",
    "\\right]\n",
    "\\quad b = \\begin{bmatrix}0\\\\0\\\\0\\\\\\vdots\\\\0\\\\b_{n-1}\\end{bmatrix}\n",
    "\\quad c = \\begin{bmatrix}c_1&c_2&c_3&\\cdots&c_{n-1}&1\\end{bmatrix}\n",
    "$$\n",
    "![](tdech-hw04-ece601_prob1.png)\n",
    "**Update:** $c_{\\lambda-1}$ should read $c_{n-1}$."
   ]
  },
  {
   "cell_type": "markdown",
   "metadata": {},
   "source": [
    "### 2. Kailath 2.2-8. *Interconnections of Subsystems*"
   ]
  },
  {
   "cell_type": "markdown",
   "metadata": {},
   "source": [
    "Write state equations for two realizations $\\{A_i,b_i,c_i\\}$ connected in:"
   ]
  },
  {
   "cell_type": "markdown",
   "metadata": {},
   "source": [
    "##### a) Series"
   ]
  },
  {
   "cell_type": "markdown",
   "metadata": {},
   "source": [
    "$$\n",
    "\\begin{aligned}\n",
    "            u_1 &= u \\\\\n",
    "      \\dot{x}_1 &= A_1x_1 + b_1u_1 = A_1x_1 + b_1u \\\\\n",
    "            u_2 &= y_1= c_1x_1 \\\\\n",
    "      \\dot{x}_2 &= A_2x_2 + b_2u_2 = A_2x_2 + b_2c_1x_1 \\\\\n",
    "              y &= y_2 = c_2x_2 \\\\\\\\\n",
    "      \\begin{bmatrix} \\dot{x}_1 \\\\ \\dot{x}_2 \\end{bmatrix}\n",
    "   &= \\begin{bmatrix} A_1 & \\bigcirc \\\\ b_2c_1& A_2  \\end{bmatrix}\n",
    "      \\begin{bmatrix} x_1 \\\\ x_2  \\end{bmatrix}\n",
    "    + \\begin{bmatrix} b_1 \\\\ \\bigcirc  \\end{bmatrix}u \\\\\\\\\n",
    "             y &= \\begin{bmatrix} \\bigcirc & c_2 \\end{bmatrix} \\begin{bmatrix} x_1 \\\\ x_2  \\end{bmatrix}\\\\\\\\\n",
    "     \\{A,b,c\\} &= \\left\\{\n",
    "                         \\begin{bmatrix} A_1 & \\bigcirc \\\\ b_2c_1& A_2  \\end{bmatrix},\n",
    "                         \\begin{bmatrix} b_1 \\\\ \\bigcirc  \\end{bmatrix},\n",
    "                         \\begin{bmatrix} \\bigcirc & c_2 \\end{bmatrix}\n",
    "                  \\right\\}\n",
    "\\end{aligned}\n",
    "$$"
   ]
  },
  {
   "cell_type": "markdown",
   "metadata": {},
   "source": [
    "##### b) Parallel"
   ]
  },
  {
   "cell_type": "markdown",
   "metadata": {},
   "source": [
    "$$\n",
    "\\begin{aligned}\n",
    "    u_1 &= u_2 = u  \\\\\n",
    "    y   &= y_1 + y_2 = c_1x_1 + c_2x_2\\\\\\\\\n",
    "      \\begin{bmatrix} \\dot{x}_1 \\\\ \\dot{x}_2 \\end{bmatrix}\n",
    "   &= \\begin{bmatrix} A_1 & \\bigcirc \\\\ \\bigcirc & A_2  \\end{bmatrix}\n",
    "      \\begin{bmatrix} x_1 \\\\ x_2  \\end{bmatrix}\n",
    "    + \\begin{bmatrix} b_1 \\\\ b_2  \\end{bmatrix}u \\\\\\\\\n",
    "             y &= \\begin{bmatrix} c_1 & c_2 \\end{bmatrix} \\begin{bmatrix} x_1 \\\\ x_2  \\end{bmatrix}\\\\\\\\\n",
    "     \\{A,b,c\\} &= \\left\\{\n",
    "                         \\begin{bmatrix} A_1 & \\bigcirc \\\\ \\bigcirc & A_2  \\end{bmatrix},\n",
    "                         \\begin{bmatrix} b_1 \\\\ b_2  \\end{bmatrix},\n",
    "                         \\begin{bmatrix} c_1 & c_2 \\end{bmatrix}\n",
    "                  \\right\\}\n",
    "\\end{aligned}\n",
    "$$"
   ]
  },
  {
   "cell_type": "markdown",
   "metadata": {},
   "source": [
    "##### c) Feedback, with $\\{A_1,b_1,c_1\\}$ in the forward loop and $\\{A_2,b_2,c_2\\}$ in the feedback loop"
   ]
  },
  {
   "cell_type": "markdown",
   "metadata": {},
   "source": [
    "$$\n",
    "\\begin{aligned}\n",
    "            u_1 &= u + y_2 = u + c_2x_2\\\\\n",
    "      \\dot{x}_1 &= A_1x_1 + b_1u_1 = A_1x_1 + b_1c_2x_2 + b_1u \\\\\n",
    "            u_2 &= y_1 = y = c_1x_1 \\\\\n",
    "      \\dot{x}_2 &= A_2x_2 + b_2u_2 = b_2c_1x_1 + A_2x_2 \\\\\\\\\n",
    "      \\begin{bmatrix} \\dot{x}_1 \\\\ \\dot{x}_2 \\end{bmatrix}\n",
    "   &= \\begin{bmatrix} A_1 & b_1c_2 \\\\ b_2c_1 & A_2  \\end{bmatrix}\n",
    "      \\begin{bmatrix} x_1 \\\\ x_2  \\end{bmatrix}\n",
    "    + \\begin{bmatrix} b_1 \\\\ \\bigcirc  \\end{bmatrix}u \\\\\\\\\n",
    "             y &= \\begin{bmatrix} c_1 & \\bigcirc \\end{bmatrix} \\begin{bmatrix} x_1 \\\\ x_2  \\end{bmatrix}\\\\\\\\\n",
    "     \\{A,b,c\\} &= \\left\\{\n",
    "                         \\begin{bmatrix} A_1 & b_1c_2 \\\\ b_2c_1 & A_2  \\end{bmatrix},\n",
    "                         \\begin{bmatrix} b_1 \\\\ \\bigcirc  \\end{bmatrix},\n",
    "                         \\begin{bmatrix} c_1 & \\bigcirc \\end{bmatrix}\n",
    "                  \\right\\}\n",
    "\\end{aligned}\n",
    "$$"
   ]
  },
  {
   "cell_type": "markdown",
   "metadata": {},
   "source": [
    "### 3. *Properties of Condition Numbers*"
   ]
  },
  {
   "cell_type": "markdown",
   "metadata": {},
   "source": [
    "Let $A,B \\in {\\rm I\\!R}^{n×n}$ be arbitrary matrices. (Assume $A$ is invertible when necessary.) For each statement below, either prove its validity in general or provide a specific counterexample to disprove it."
   ]
  },
  {
   "cell_type": "markdown",
   "metadata": {},
   "source": [
    "##### (a) $c(A) ≥ 1$"
   ]
  },
  {
   "cell_type": "markdown",
   "metadata": {},
   "source": []
  },
  {
   "cell_type": "markdown",
   "metadata": {},
   "source": [
    "##### (b) If $A^{−1} = A^T$ then $c(A) = 1$"
   ]
  },
  {
   "cell_type": "markdown",
   "metadata": {},
   "source": []
  },
  {
   "cell_type": "markdown",
   "metadata": {},
   "source": [
    "##### (c) If $c(A) = 1$ then $A^{−1} = A^T$"
   ]
  },
  {
   "cell_type": "markdown",
   "metadata": {},
   "source": []
  },
  {
   "cell_type": "markdown",
   "metadata": {},
   "source": [
    "##### (d) $c(A^T) = c(A)$"
   ]
  },
  {
   "cell_type": "markdown",
   "metadata": {},
   "source": []
  },
  {
   "cell_type": "markdown",
   "metadata": {},
   "source": [
    "##### (e) $c(A^{−1}) = (c(A))^{−1}$"
   ]
  },
  {
   "cell_type": "markdown",
   "metadata": {},
   "source": []
  },
  {
   "cell_type": "markdown",
   "metadata": {},
   "source": [
    "##### (f) $c(\\alpha A) = \\alpha c(A), \\forall \\alpha \\in {\\rm I\\!R}$"
   ]
  },
  {
   "cell_type": "markdown",
   "metadata": {},
   "source": []
  },
  {
   "cell_type": "markdown",
   "metadata": {},
   "source": [
    "##### (g) $c(A + B) ≤ c(A) + c(B)$"
   ]
  },
  {
   "cell_type": "markdown",
   "metadata": {},
   "source": []
  },
  {
   "cell_type": "markdown",
   "metadata": {},
   "source": [
    "##### (h) $c(AB) ≤ c(A)c(B)$"
   ]
  },
  {
   "cell_type": "markdown",
   "metadata": {},
   "source": []
  },
  {
   "cell_type": "markdown",
   "metadata": {},
   "source": [
    "### 4. *Singular Value Decomposition*"
   ]
  },
  {
   "cell_type": "markdown",
   "metadata": {},
   "source": [
    "##### Consider a linear operator $\\mathcal{A}$ represented by the matrix\n",
    "$$\n",
    "    A = \\begin{bmatrix} -1 & 2 & 3 \\\\ 1 & 0 & -1 \\\\ 1 & 2 & 0 \\end{bmatrix}.\n",
    "$$"
   ]
  },
  {
   "cell_type": "markdown",
   "metadata": {},
   "source": [
    "##### (a) Compute the singular value decomposition of $A$."
   ]
  },
  {
   "cell_type": "code",
   "execution_count": 1,
   "metadata": {},
   "outputs": [
    {
     "name": "stdout",
     "output_type": "stream",
     "text": [
      "\n",
      "Q1 =\n",
      "\n",
      "   -0.9379    0.1096   -0.3291\n",
      "    0.2540   -0.4290   -0.8669\n",
      "   -0.2362   -0.8966    0.3745\n",
      "\n",
      "\n",
      "S =\n",
      "\n",
      "    3.9798         0         0\n",
      "         0    2.2609         0\n",
      "         0         0    0.2223\n",
      "\n",
      "\n",
      "Q2 =\n",
      "\n",
      "    0.2402   -0.6348   -0.7344\n",
      "   -0.5900   -0.6962    0.4088\n",
      "   -0.7708    0.3351   -0.5417\n",
      "\n"
     ]
    },
    {
     "name": "stderr",
     "output_type": "stream",
     "text": []
    }
   ],
   "source": [
    "A = [-1 2 3; 1 0 -1; 1 2 0];\n",
    "[Q1,S,Q2] = svd(A)"
   ]
  },
  {
   "cell_type": "markdown",
   "metadata": {},
   "source": [
    "##### (b) Are singular values invariant under a similarity transformation? Explain."
   ]
  },
  {
   "cell_type": "markdown",
   "metadata": {},
   "source": [
    "##### (c) If your answer to (b) is $yes$, give another representation of the operator having the same singular values. If the answer is $no$, can you provide another type of transformation under which the singular values are always preserved?"
   ]
  }
 ],
 "metadata": {
  "kernelspec": {
   "display_name": "MATLAB",
   "language": "matlab",
   "name": "imatlab"
  },
  "language_info": {
   "codemirror_mode": "octave",
   "file_extension": ".m",
   "mimetype": "text/x-matlab",
   "name": "matlab",
   "nbconvert_exporter": "imatlab._exporter.MatlabExporter",
   "pygments_lexer": "matlab",
   "version": "9.2.0.556344 (R2017a)"
  }
 },
 "nbformat": 4,
 "nbformat_minor": 2
}
