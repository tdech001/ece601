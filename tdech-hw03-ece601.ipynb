{
 "cells": [
  {
   "cell_type": "markdown",
   "metadata": {},
   "source": [
    "# Tim DeChant\n",
    "# ECE 601 - Dr. Gray\n",
    "# Homework #3\n",
    " Due 9/21/2017"
   ]
  },
  {
   "cell_type": "markdown",
   "metadata": {},
   "source": [
    "### 1. **Condition Numbers and Error Gains**: Consider the linear system of equations $Ax = b$, where $$A = \\begin{bmatrix} 2 & -2 \\\\ -2 & 1 \\end{bmatrix}.$$  "
   ]
  },
  {
   "cell_type": "markdown",
   "metadata": {},
   "source": [
    "#### (a) Compute the condition number $c(A)$ of $A$."
   ]
  },
  {
   "cell_type": "markdown",
   "metadata": {},
   "source": [
    "$$\n",
    "\\begin{aligned}\n",
    "det(A-\\lambda I) = 0 & = & (2-\\lambda)(1-\\lambda)-4        \\\\\n",
    "                     & = & \\lambda^2 - 3\\lambda -2     \\\\ \\\\\n",
    "\\end{aligned}                 \n",
    "$$\n",
    "$$\n",
    "\\begin{aligned}\n",
    " \\lambda=\\frac{3+\\sqrt{17}}{2} && \\text{or} && \\lambda=\\frac{3-\\sqrt{17}}{2}       \\\\ \\\\\n",
    "\\end{aligned}                 \n",
    "$$\n",
    "$$\n",
    "A=A^T \\rightarrow c(A) = \\frac{\\left|\\lambda_{max}\\right|}{\\left|\\lambda_{min}\\right|}\n",
    "                       = \\frac{3+\\sqrt{17}}{\\sqrt{17}-3}\n",
    "                       = \\frac{13+3\\sqrt{17}}{4} \\approx 6.342\n",
    "$$"
   ]
  },
  {
   "cell_type": "code",
   "execution_count": 1,
   "metadata": {},
   "outputs": [
    {
     "name": "stdout",
     "output_type": "stream",
     "text": [
      "\n",
      "c =\n",
      "\n",
      "    6.3423\n",
      "\n"
     ]
    },
    {
     "name": "stderr",
     "output_type": "stream",
     "text": []
    }
   ],
   "source": [
    "A = [2 -2; -2 1];\n",
    "lambda = abs(eig(A));\n",
    "c = max(lambda)/min(lambda)"
   ]
  },
  {
   "cell_type": "markdown",
   "metadata": {},
   "source": [
    "#### (b) Determine specific vectors $b$ and $\\Delta b$ so that the following equations are satisfied:"
   ]
  },
  {
   "cell_type": "markdown",
   "metadata": {},
   "source": [
    "$$\n",
    "\\frac{||\\Delta x||}{||x||} = c(A) \\frac{||\\Delta b||}{||b||}\\\\\n",
    "$$\n",
    "Here $b$ and $\\Delta b$ will be the products of the max/min eigenvalue/eigenvector pairs ($\\lambda_{max} x_{max},\\lambda_{min} x_{min}$) for $A$:"
   ]
  },
  {
   "cell_type": "code",
   "execution_count": 2,
   "metadata": {},
   "outputs": [
    {
     "name": "stdout",
     "output_type": "stream",
     "text": [
      "\n",
      "b =\n",
      "\n",
      "   -2.8072\n",
      "    2.1918\n",
      "\n",
      "\n",
      "delta_b =\n",
      "\n",
      "    0.3456\n",
      "    0.4426\n",
      "\n",
      "\n",
      "error =\n",
      "\n",
      "  -2.2204e-16\n",
      "\n"
     ]
    },
    {
     "name": "stderr",
     "output_type": "stream",
     "text": []
    }
   ],
   "source": [
    "[v,d] = eig(A);\n",
    "l=diag(d);\n",
    "l_abs=abs(l);\n",
    "[l_min,i_min] = min(abs(l));\n",
    "[l_max,i_max] = max(abs(l));\n",
    "x       = v(:,[i_max]);\n",
    "delta_x = v(:,[i_min]);\n",
    "b       = l(i_max)*x\n",
    "delta_b = l(i_min)*delta_x\n",
    "error = norm(delta_x)/norm(x) - c * norm(delta_b)/norm(b)"
   ]
  },
  {
   "cell_type": "markdown",
   "metadata": {},
   "source": [
    "$$\n",
    "\\frac{||\\Delta x||}{||x||} = \\frac{1}{c(A)} \\frac{||\\Delta b||}{||b||}\\\\\n",
    "$$\n",
    "Here the minimum eigenvector is used for $x$ and the maximum for $\\Delta x$, so $b$ and $\\Delta b$ are also swapped:"
   ]
  },
  {
   "cell_type": "code",
   "execution_count": 3,
   "metadata": {},
   "outputs": [
    {
     "name": "stdout",
     "output_type": "stream",
     "text": [
      "\n",
      "b =\n",
      "\n",
      "    0.3456\n",
      "    0.4426\n",
      "\n",
      "\n",
      "delta_b =\n",
      "\n",
      "   -2.8072\n",
      "    2.1918\n",
      "\n",
      "\n",
      "error =\n",
      "\n",
      "     0\n",
      "\n"
     ]
    },
    {
     "name": "stderr",
     "output_type": "stream",
     "text": []
    }
   ],
   "source": [
    "x       = v(:,[i_min]);\n",
    "delta_x = v(:,[i_max]);\n",
    "b       = l(i_min)*x\n",
    "delta_b = l(i_max)*delta_x\n",
    "error = norm(delta_x)/norm(x) - 1/c * norm(delta_b)/norm(b)"
   ]
  },
  {
   "cell_type": "markdown",
   "metadata": {},
   "source": [
    "### 2. Spectral Versus Singular Value Decomposition: Consider a linear operator $A$ with matrix representation $$A = \\begin{bmatrix} 1 & 3 \\\\ 7 & -1 \\end{bmatrix}.$$  "
   ]
  },
  {
   "cell_type": "markdown",
   "metadata": {},
   "source": [
    "#### (a) Compute the spectral decomposition and singular value decomposition of $A$."
   ]
  },
  {
   "cell_type": "markdown",
   "metadata": {},
   "source": [
    "#### (b)  Sketch $\\mathcal{A}(S^1)$, the image of the unit circle under $ A$."
   ]
  },
  {
   "cell_type": "code",
   "execution_count": 6,
   "metadata": {},
   "outputs": [
    {
     "name": "stdout",
     "output_type": "stream",
     "text": [
      "\n",
      "v =\n",
      "\n",
      "    0.6308   -0.4664\n",
      "    0.7760    0.8846\n",
      "\n",
      "\n",
      "d =\n",
      "\n",
      "    4.6904         0\n",
      "         0   -4.6904\n",
      "\n"
     ]
    },
    {
     "name": "stderr",
     "output_type": "stream",
     "text": []
    },
    {
     "data": {
      "image/png": "[encoded data removed]"
     },
     "metadata": {},
     "output_type": "display_data"
    }
   ],
   "source": [
    "imatlab_export_fig('print-png');\n",
    "A = [1 3; 7 -1];\n",
    "[v d] = eig(A)\n",
    "lambda=diag(d);\n",
    "x1=v(:,[1]);\n",
    "x2=v(:,[2]);\n",
    "b1=lambda([1])*x1;\n",
    "b2=lambda([2])*x2;\n",
    "t = linspace(0,2*pi);\n",
    "x = [ cos(t); sin(t) ];\n",
    "b = A*x;\n",
    "plot(x([1],:),x([2],:));\n",
    "hold on\n",
    "quiver(0,0,b1(1),b1(2), 0);\n",
    "quiver(0,0,b2(1),b2(2), 0);\n",
    "quiver(0,0,x1(1),x1(2), 0);\n",
    "quiver(0,0,x2(1),x2(2), 0);\n",
    "plot(b([1],:),b([2],:));\n",
    "hold off\n",
    "daspect([1 1 1])"
   ]
  },
  {
   "cell_type": "code",
   "execution_count": 4,
   "metadata": {
    "scrolled": false
   },
   "outputs": [
    {
     "name": "stdout",
     "output_type": "stream",
     "text": [
      "\n",
      "u =\n",
      "\n",
      "   -0.0985   -0.9951\n",
      "   -0.9951    0.0985\n",
      "\n",
      "\n",
      "s =\n",
      "\n",
      "    7.0990         0\n",
      "         0    3.0990\n",
      "\n",
      "\n",
      "v =\n",
      "\n",
      "   -0.9951   -0.0985\n",
      "    0.0985   -0.9951\n",
      "\n"
     ]
    },
    {
     "name": "stderr",
     "output_type": "stream",
     "text": []
    },
    {
     "data": {
      "image/png": "[encoded data removed]"
     },
     "metadata": {},
     "output_type": "display_data"
    }
   ],
   "source": [
    "imatlab_export_fig('print-png');\n",
    "A = [1 3; 7 -1];\n",
    "[u s v] = svd(A)\n",
    "lambda=diag(s);\n",
    "x1=u(:,[1]);\n",
    "x2=u(:,[2]);\n",
    "b1=lambda([1])*x1;\n",
    "b2=lambda([2])*x2;\n",
    "t = linspace(0,2*pi);\n",
    "x = [ cos(t); sin(t) ];\n",
    "b = A*x;\n",
    "plot(x([1],:),x([2],:));\n",
    "hold on\n",
    "quiver(0,0,b1(1),b1(2), 0);\n",
    "quiver(0,0,b2(1),b2(2), 0);\n",
    "quiver(0,0,x1(1),x1(2), 0);\n",
    "quiver(0,0,x2(1),x2(2), 0);\n",
    "plot(b([1],:),b([2],:));\n",
    "hold off\n",
    "daspect([1 1 1])"
   ]
  },
  {
   "cell_type": "markdown",
   "metadata": {},
   "source": [
    "#### (c) Compare your answers to parts (a) and (b) and draw a conclusion."
   ]
  },
  {
   "cell_type": "markdown",
   "metadata": {},
   "source": [
    "The components of the SVD represent the shape of the transform, indicating the major and minor axis of the ellipse, whereas the spectral decomposition is not as geometrically meaningful."
   ]
  },
  {
   "cell_type": "markdown",
   "metadata": {},
   "source": [
    "### 3 Numerically Solving Hilbert Systems: A Hilbert system is a set of linear equations $Hx = b$, where $H$ is the Hilbert matrix (this means: $\\begin{align}H_{ij} = 1/(i+j −1) & \\forall i, j ≥ 1\\end{align}$). For Hilbert matrices of dimension n = 10, 15, 20, try the following experiment:"
   ]
  },
  {
   "cell_type": "code",
   "execution_count": 6,
   "metadata": {},
   "outputs": [
    {
     "name": "stdout",
     "output_type": "stream",
     "text": [
      "\n",
      "ans =\n",
      "\n",
      "   2.2204e-16\n",
      "\n"
     ]
    },
    {
     "name": "stderr",
     "output_type": "stream",
     "text": []
    }
   ],
   "source": [
    "eps"
   ]
  },
  {
   "cell_type": "markdown",
   "metadata": {},
   "source": [
    "#### (a) Compute and save $H^{−1}$. (Use the MatLab command inv for matrix inversion.)\n"
   ]
  },
  {
   "cell_type": "markdown",
   "metadata": {},
   "source": [
    "#### (b) Set $b = [1, 2, . . . , n]^T$\n"
   ]
  },
  {
   "cell_type": "markdown",
   "metadata": {},
   "source": [
    "#### (c) Compute $x = H^{−1}b$\n"
   ]
  },
  {
   "cell_type": "markdown",
   "metadata": {},
   "source": [
    "#### (d) Compute $bb := Hx$.\n"
   ]
  },
  {
   "cell_type": "code",
   "execution_count": 7,
   "metadata": {},
   "outputs": [
    {
     "name": "stdout",
     "output_type": "stream",
     "text": [
      "\n",
      "b =\n",
      "\n",
      "     1\n",
      "     2\n",
      "     3\n",
      "     4\n",
      "     5\n",
      "     6\n",
      "     7\n",
      "     8\n",
      "     9\n",
      "    10\n",
      "\n",
      "\n",
      "x =\n",
      "\n",
      "   1.0e+08 *\n",
      "\n",
      "   -0.0000\n",
      "    0.0010\n",
      "   -0.0233\n",
      "    0.2330\n",
      "   -1.2106\n",
      "    3.5940\n",
      "   -6.3222\n",
      "    6.5103\n",
      "   -3.6227\n",
      "    0.8405\n",
      "\n",
      "\n",
      "bb =\n",
      "\n",
      "    1.0001\n",
      "    2.0001\n",
      "    3.0001\n",
      "    4.0001\n",
      "    5.0001\n",
      "    6.0001\n",
      "    7.0001\n",
      "    8.0001\n",
      "    9.0001\n",
      "   10.0001\n",
      "\n"
     ]
    },
    {
     "name": "stderr",
     "output_type": "stream",
     "text": []
    }
   ],
   "source": [
    "n = 10;\n",
    "H = hilb(n);\n",
    "iH = inv(H);\n",
    "b = linspace(1, n, n).'\n",
    "x = iH*b\n",
    "bb = H*x"
   ]
  },
  {
   "cell_type": "code",
   "execution_count": 8,
   "metadata": {},
   "outputs": [
    {
     "name": "stdout",
     "output_type": "stream",
     "text": [
      "Warning: Matrix is close to singular or badly scaled. Results may be inaccurate. RCOND =  8.269626e-19.\n",
      "\n",
      "b =\n",
      "\n",
      "     1\n",
      "     2\n",
      "     3\n",
      "     4\n",
      "     5\n",
      "     6\n",
      "     7\n",
      "     8\n",
      "     9\n",
      "    10\n",
      "    11\n",
      "    12\n",
      "    13\n",
      "    14\n",
      "    15\n",
      "\n",
      "\n",
      "x =\n",
      "\n",
      "   1.0e+10 *\n",
      "\n",
      "    0.0000\n",
      "   -0.0000\n",
      "    0.0009\n",
      "   -0.0129\n",
      "    0.0917\n",
      "   -0.3449\n",
      "    0.5842\n",
      "    0.2451\n",
      "   -2.8337\n",
      "    4.3313\n",
      "   -0.4098\n",
      "   -6.4435\n",
      "    8.4204\n",
      "   -4.5973\n",
      "    0.9684\n",
      "\n",
      "\n",
      "bb =\n",
      "\n",
      "   10.5181\n",
      "    4.5068\n",
      "    3.2783\n",
      "    3.1009\n",
      "    3.4141\n",
      "    4.0027\n",
      "    4.7570\n",
      "    5.6148\n",
      "    6.5392\n",
      "    7.5070\n",
      "    8.5037\n",
      "    9.5196\n",
      "   10.5482\n",
      "   11.5853\n",
      "   12.6278\n",
      "\n"
     ]
    },
    {
     "name": "stderr",
     "output_type": "stream",
     "text": []
    }
   ],
   "source": [
    "n = 15;\n",
    "H = hilb(n);\n",
    "iH = inv(H);\n",
    "b = linspace(1, n, n).'\n",
    "x = iH*b\n",
    "bb = H*x"
   ]
  },
  {
   "cell_type": "code",
   "execution_count": 14,
   "metadata": {},
   "outputs": [
    {
     "name": "stdout",
     "output_type": "stream",
     "text": [
      "Warning: Matrix is close to singular or badly scaled. Results may be inaccurate. RCOND =  9.542396e-20.\n",
      "\n",
      "b =\n",
      "\n",
      "     1\n",
      "     2\n",
      "     3\n",
      "     4\n",
      "     5\n",
      "     6\n",
      "     7\n",
      "     8\n",
      "     9\n",
      "    10\n",
      "    11\n",
      "    12\n",
      "    13\n",
      "    14\n",
      "    15\n",
      "    16\n",
      "    17\n",
      "    18\n",
      "    19\n",
      "    20\n",
      "\n",
      "\n",
      "x =\n",
      "\n",
      "   1.0e+12 *\n",
      "\n",
      "    0.0000\n",
      "   -0.0000\n",
      "    0.0001\n",
      "   -0.0019\n",
      "    0.0168\n",
      "   -0.0873\n",
      "    0.2707\n",
      "   -0.4806\n",
      "    0.3946\n",
      "   -0.0036\n",
      "    0.1047\n",
      "   -0.9998\n",
      "    1.4091\n",
      "   -0.7873\n",
      "    0.4672\n",
      "   -0.5454\n",
      "   -0.1398\n",
      "    0.9149\n",
      "   -0.7075\n",
      "    0.1750\n",
      "\n",
      "\n",
      "bb =\n",
      "\n",
      "   49.5140\n",
      "   25.0212\n",
      "   22.5622\n",
      "   20.6523\n",
      "   19.3404\n",
      "   18.6339\n",
      "   18.3976\n",
      "   18.4965\n",
      "   18.8279\n",
      "   19.3199\n",
      "   19.9233\n",
      "   20.6050\n",
      "   21.3421\n",
      "   22.1193\n",
      "   22.9255\n",
      "   23.7534\n",
      "   24.5977\n",
      "   25.4545\n",
      "   26.3211\n",
      "   27.1955\n",
      "\n"
     ]
    },
    {
     "name": "stderr",
     "output_type": "stream",
     "text": []
    }
   ],
   "source": [
    "n = 20;\n",
    "H = hilb(n);\n",
    "iH = inv(H);\n",
    "b = linspace(1, n, n).'\n",
    "x = iH*b\n",
    "bb = H*x"
   ]
  }
 ],
 "metadata": {
  "kernelspec": {
   "display_name": "MATLAB",
   "language": "matlab",
   "name": "imatlab"
  },
  "language_info": {
   "codemirror_mode": "octave",
   "file_extension": ".m",
   "mimetype": "text/x-matlab",
   "name": "matlab",
   "nbconvert_exporter": "imatlab._exporter.MatlabExporter",
   "pygments_lexer": "matlab",
   "version": "9.2.0.556344 (R2017a)"
  }
 },
 "nbformat": 4,
 "nbformat_minor": 2
}
