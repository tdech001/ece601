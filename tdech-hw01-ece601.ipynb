{
 "cells": [
  {
   "cell_type": "markdown",
   "metadata": {},
   "source": [
    "# Tim DeChant - Homework #1 - ECE 601 - Dr Gray\n",
    " Due 9/7/2017"
   ]
  },
  {
   "cell_type": "markdown",
   "metadata": {},
   "source": [
    "## Problem 1\n",
    "\n",
    "$$\n",
    "\\begin{eqnarray}\n",
    "\t\\dot{x}_1 & = &\t\\frac{I_2 - I_3}{I_1} x_2 x_3 + b_1 u_1 \\\\\n",
    "\t\\dot{x}_2 & = &\t\\frac{I_3 - I_1}{I_2} x_3 x_1 + b_2 u_2 \\\\\n",
    "\t\\dot{x}_3 & = &\t\\frac{I_1 - I_2}{I_3} x_1 x_2 + b_3 u_3 ,\n",
    "\\end{eqnarray}\n",
    "$$\n",
    "\n",
    "This is a nonlinear third order system, but stability is unclear initially.  We can easily linearize by looking at level sets, i.e. locking one axis (at a time).  Fixing $x_3$ requires the conditions:\n",
    "\n",
    "$$\n",
    "\\begin{eqnarray}\n",
    "\t\\dot{x}_3 & = & 0 & = &\t\\frac{I_1 - I_2}{I_3} x_1 x_2 + b_3 u_3 \\\\\n",
    "\t          &   & u_3 & = &\t\\frac{I_2 - I_1}{I_3 b_3} x_1 x_2\n",
    "\\end{eqnarray}\n",
    "$$\n",
    "\n",
    "Which seems well defined and bounded, provided $x_1$ and $x_2$ stay so.\n",
    "\n",
    "Substituting the constant value of $x_3 = k_{x_3}$, we obtain a 2nd order state space model:\n",
    "\n",
    "$$\n",
    "\t\\dot{x}\n",
    "    =\n",
    "    \\begin{bmatrix}\n",
    "\t\t0 & a_1 \\\\\n",
    "\t\ta_2 & 0\n",
    "\t\\end{bmatrix} x\n",
    "\t+ \\begin{bmatrix}\n",
    "\t\tb_1  \\\\\n",
    "\t\tb_2\n",
    "\t\\end{bmatrix} u , \n",
    "    \\begin{cases}\n",
    "       a_1 = \\frac{I_2 - I_3}{I_1} k_{x_3} \\\\\n",
    "       a_2 = \\frac{I_3 - I_1}{I_2} k_{x_3}\n",
    "    \\end{cases}\n",
    "$$\n",
    "\n",
    "This gives more insight into the stability stability of the system.  Assuming zero initial conditions:\n",
    "\n",
    "$$\n",
    "\\begin{eqnarray}\n",
    "\ts X_1 & = & a_1 X_2 + b_1 U_1 & \\rightarrow &   ( s X_1 - b_1 U_1 ) / a_1 & = & X_2 \\\\ \\\\\n",
    "    s X_2 & = & a_2 X_1 + b_2 U_2 & \\rightarrow & s ( s X_1 - b_1 U_1 ) / a_1 & = & a_2 X_1 + b_2 U_2 \\\\\n",
    "          &   &                   &             & s^2 X_1 - b_1 U_1 & = & a_1 a_2 X_1 + a_1 b_2 U_2 \\\\\n",
    "          &   &                   &             & X_1 & = & \\frac{b_1 U_1 + a_1 b_2 U_2}{s^2 - a_1 a_2}\n",
    "\\end{eqnarray}\n",
    "$$\n",
    "\n",
    "With poles at $\\pm k_{x_3} \\sqrt{ \\frac{(I_2 - I_3)(I_3 - I_1)}{I_1 I_2} }$, we can see that $x_1$ is unstable or marginally stable, respectively, when $ \\frac{(I_2 - I_3)(I_3 - I_1)}{I_1 I_2} $ is positive or negative.  By symmetry, the system will behave similarly on the other axes.\n"
   ]
  },
  {
   "cell_type": "markdown",
   "metadata": {},
   "source": [
    "## Problem 2\n",
    "### The set of all n × ℓ matrices with real components, $ℜ^{n×ℓ}$\n",
    "$x + y = \\{ x_{ij} \\} + \\{ y_{ij} \\} = \\{ x_{ij} + y_{ij} \\}$\n",
    "\n",
    "##### Commutativity\n",
    "Since $x_{ij},y_{ij} \\in ℜ$, then it follows $x + y = \\{ x_{ij} + y_{ij} \\} = \\{ y_{ij} + x_{ij} \\} = y + x$\n",
    "\n",
    "##### Associativity\n",
    "Since $x_{ij},y_{ij},Z_{ij} \\in ℜ$, then\n",
    "$$\n",
    "\\begin{eqnarray}\n",
    "x + (y + z) & = & \\{ x_{ij} + (y_{ij} + z_{ij}) \\} \\\\\n",
    "            & = & \\{ (x_{ij} + y_{ij}) + z_{ij} \\} \\\\\n",
    "            & = & (x + y) + z\n",
    "\\end{eqnarray}\n",
    "$$\n",
    "\n",
    "##### Zero\n",
    "\n",
    "##### Inverse\n",
    "\n",
    "#### Scalar Multiplication\n",
    "\n",
    "##### Commutativity\n",
    "\n",
    "##### Associativity\n",
    "\n",
    "##### Identity\n",
    "\n",
    "##### Inverse\n",
    "\n",
    "$c \\cdot x = \\{ c \\cdot x_{ij} \\}$\n",
    "\n",
    "### The set of all invertible matrices in $ℜ^{n×n}, GL_n(ℜ^{n×n})$.\n",
    "$x + y = \\{ x_{ij} + y_{ij} \\}$\n",
    "\n",
    "$c \\cdot x = \\{ c \\cdot x_{ij} \\}$\n",
    "\n",
    "### The set of all functions defined on the interval [0, 1] which have a well defined Laplace transform.\n",
    "#### Vector Addition\n",
    "\n",
    "#### Scalar Multiplication\n",
    "\n",
    "###  The set of all infinite sequences of real numbers having zeros in the odd positions, that is, sequences of the form $ v = (0, v_1, 0, v_2, 0, ...) $\n",
    "#### Vector Addition\n",
    "\n",
    "#### Scalar Multiplication\n"
   ]
  },
  {
   "cell_type": "markdown",
   "metadata": {},
   "source": [
    "## Problem 3"
   ]
  },
  {
   "cell_type": "code",
   "execution_count": 1,
   "metadata": {},
   "outputs": [
    {
     "ename": "ModuleNotFoundError",
     "evalue": "No module named 'scipy'",
     "output_type": "error",
     "traceback": [
      "\u001b[0;31m---------------------------------------------------------------------------\u001b[0m",
      "\u001b[0;31mModuleNotFoundError\u001b[0m                       Traceback (most recent call last)",
      "\u001b[0;32m<ipython-input-1-6f5c35f1f06c>\u001b[0m in \u001b[0;36m<module>\u001b[0;34m()\u001b[0m\n\u001b[1;32m      1\u001b[0m \u001b[0;31m# Bring in some support\u001b[0m\u001b[0;34m\u001b[0m\u001b[0;34m\u001b[0m\u001b[0m\n\u001b[1;32m      2\u001b[0m \u001b[0;32mimport\u001b[0m \u001b[0mnumpy\u001b[0m \u001b[0;32mas\u001b[0m \u001b[0mnp\u001b[0m\u001b[0;34m\u001b[0m\u001b[0m\n\u001b[0;32m----> 3\u001b[0;31m \u001b[0;32mfrom\u001b[0m \u001b[0mscipy\u001b[0m\u001b[0;34m.\u001b[0m\u001b[0mlinalg\u001b[0m \u001b[0;32mimport\u001b[0m \u001b[0mtoeplitz\u001b[0m\u001b[0;34m\u001b[0m\u001b[0m\n\u001b[0m\u001b[1;32m      4\u001b[0m \u001b[0;32mfrom\u001b[0m \u001b[0mIPython\u001b[0m\u001b[0;34m.\u001b[0m\u001b[0mdisplay\u001b[0m \u001b[0;32mimport\u001b[0m \u001b[0mLatex\u001b[0m\u001b[0;34m\u001b[0m\u001b[0m\n\u001b[1;32m      5\u001b[0m \u001b[0;34m\u001b[0m\u001b[0m\n",
      "\u001b[0;31mModuleNotFoundError\u001b[0m: No module named 'scipy'"
     ]
    }
   ],
   "source": [
    "# Bring in some support\n",
    "import numpy as np\n",
    "from scipy.linalg import toeplitz\n",
    "from IPython.display import Latex\n",
    "\n",
    "def LaTeX_matrix(matrix):\n",
    "    rows = [ ' & '.join([ str(val) for val in row ]) for row in matrix ]\n",
    "    mstring = r' \\\\ '.join(rows)\n",
    "    return Latex(r'\\begin{bmatrix} %s \\end{bmatrix}'%(mstring))"
   ]
  },
  {
   "cell_type": "code",
   "execution_count": 2,
   "metadata": {},
   "outputs": [
    {
     "data": {
      "text/latex": [
       "\\begin{bmatrix} 1 & 2 & 3 & 4 & 5 & 6 & 7 & 8 & 9 & 10 \\\\ 0 & 1 & 2 & 3 & 4 & 5 & 6 & 7 & 8 & 9 \\\\ 0 & 0 & 1 & 2 & 3 & 4 & 5 & 6 & 7 & 8 \\\\ 0 & 0 & 0 & 1 & 2 & 3 & 4 & 5 & 6 & 7 \\\\ 0 & 0 & 0 & 0 & 1 & 2 & 3 & 4 & 5 & 6 \\\\ 0 & 0 & 0 & 0 & 0 & 1 & 2 & 3 & 4 & 5 \\\\ 0 & 0 & 0 & 0 & 0 & 0 & 1 & 2 & 3 & 4 \\\\ 0 & 0 & 0 & 0 & 0 & 0 & 0 & 1 & 2 & 3 \\\\ 0 & 0 & 0 & 0 & 0 & 0 & 0 & 0 & 1 & 2 \\\\ 0 & 0 & 0 & 0 & 0 & 0 & 0 & 0 & 0 & 1 \\end{bmatrix}"
      ],
      "text/plain": [
       "<IPython.core.display.Latex object>"
      ]
     },
     "execution_count": 2,
     "metadata": {},
     "output_type": "execute_result"
    }
   ],
   "source": [
    "toe = np.triu(toeplitz(range(1,11)))\n",
    "LaTeX_matrix(toe)"
   ]
  },
  {
   "cell_type": "code",
   "execution_count": null,
   "metadata": {
    "collapsed": true
   },
   "outputs": [],
   "source": []
  }
 ],
 "metadata": {
  "kernelspec": {
   "display_name": "Python 3",
   "language": "python",
   "name": "python3"
  },
  "language_info": {
   "codemirror_mode": {
    "name": "ipython",
    "version": 3
   },
   "file_extension": ".py",
   "mimetype": "text/x-python",
   "name": "python",
   "nbconvert_exporter": "python",
   "pygments_lexer": "ipython3",
   "version": "3.6.2"
  }
 },
 "nbformat": 4,
 "nbformat_minor": 2
}
