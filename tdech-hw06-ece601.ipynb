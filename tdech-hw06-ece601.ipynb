{
 "cells": [
  {
   "cell_type": "markdown",
   "metadata": {},
   "source": [
    "## Tim DeChant\n",
    "## ECE 601 - Dr. Gray\n",
    "## Homework #6\n",
    " Due 10/26/2017"
   ]
  },
  {
   "cell_type": "markdown",
   "metadata": {},
   "source": [
    "### 1. Kailath 2.3-28. *Time-Variant Models*\n",
    "Time-variant coefficients can be handled in descrete time much more easily than in continuous time.  Thus suppose\n",
    "$$\n",
    "x(i+1) = A(i)x(i) + B(i)u(i), \\quad i=0,1,\\ldots\n",
    "$$"
   ]
  },
  {
   "cell_type": "markdown",
   "metadata": {},
   "source": [
    "#### a. Show that $$ x(k) = \\Phi(k,j)x(j) + \\sum_{i=j}^{k-1} \\Phi(k, i+1)B(i)u(i) $$ where $$ \\Phi(k,j) \\triangleq A(k-1) \\ldots A(j), \\quad \\Phi(i,i) = I $$"
   ]
  },
  {
   "cell_type": "markdown",
   "metadata": {},
   "source": [
    "This follows from the recursive nature of $x(\\cdot)$; recursing from $k$ down to some $j \\lt k$:\n",
    "$$\n",
    "\\begin{aligned}\n",
    "x(k) &=&\\quad& A(k-1)\\bigg( A(k-2)\\Big( \\ldots A(j+1) \\big( A(j)x(j) + B(j)u(j) \\big) + B(j+1)u(j+1) \\ldots \\Big) + B(k-2)u(k-2) \\bigg) + B(k-1)u(k-1) \\\\\n",
    "     &=&\\quad& A(k-1)A(k-2) \\ldots A(j+1)A(j)x(j) \\\\\n",
    "     &&\\quad +\\quad& A(k-1)A(k-2)\\ldots A(j+1)B(j)u(j) \\\\\n",
    "     &&\\quad +\\quad& \\ldots \\\\\n",
    "     &&\\quad +\\quad& A(k-1)B(k-2)u(k-2) \\\\\n",
    "     &&\\quad +\\quad& B(k-1)u(k-1) \\\\\n",
    "     &=&\\quad& \\Phi(k,j)x(j) + \\sum_{i=j}^{k-1} \\Phi(k, i+1)B(i)u(i) \\\\\n",
    "\\end{aligned}\n",
    "$$"
   ]
  },
  {
   "cell_type": "markdown",
   "metadata": {},
   "source": [
    "#### b. Is it always true that $\\quad\\Phi(i,j)\\Phi(j,k) = \\Phi(i,k),\\quad$ all $\\quad i,j,k \\ge 0 \\quad$?"
   ]
  },
  {
   "cell_type": "markdown",
   "metadata": {},
   "source": [
    "The function $\\Phi(a,b)$ only makes sense for $a \\ge b$, with $a=b$ only covered by the explicit case.  We can easily handle the cases $i=j$ or $j=k$, since the corresponding $\\Phi$ would be $I$.\n",
    "\n",
    "Otherwise, we can see:\n",
    "$$\n",
    "\\\\\\begin{aligned}\n",
    "\\Phi(i,j)\\Phi(j,k) &= \\big(A(i-1) \\ldots A(j)\\big)\\big(A(j-1)\\ldots A(k)\\big) &\\\\\n",
    "                   &= A(i-1) \\ldots A(k) &,\\quad i \\gt j \\gt k \\\\\n",
    "                   &= \\Phi(i,k)\n",
    "\\end{aligned}\n",
    "$$"
   ]
  },
  {
   "cell_type": "markdown",
   "metadata": {},
   "source": [
    "### 2. Kailath 2.3-29. *An Alternative [\"$u(k+1)$\"] Model*\n",
    "In some problems, it turns out to be more natural to consider state-space models of the form\n",
    "$$\n",
    "\\begin{aligned}\n",
    "\\xi(k+1) &= F\\xi(k)+ gu(k+1), &\\quad& k \\gt 0 \\\\\n",
    "    y(k) &= h\\xi(k),          &\\quad& \\xi(0)= \\xi_0\n",
    "\\end{aligned}\n",
    "$$"
   ]
  },
  {
   "cell_type": "markdown",
   "metadata": {},
   "source": [
    "#### a. Show that the transfer function is\n",
    "$$\n",
    "\\mathcal{H}(z) = hz(zI - F)^{-1}g\n",
    "$$\n",
    "Note the extra $z$ in the numerator corresponding to the \"advanced\" input $u(k+1)$."
   ]
  },
  {
   "cell_type": "markdown",
   "metadata": {},
   "source": [
    "$$\n",
    "\\\\\\begin{aligned}\n",
    "\\mathscr{L}\\{\\xi(k+1)\\} = z(\\Xi - \\xi_0)   &= F\\Xi + gz(U - u_0)\\\\\n",
    "                          (zI - F)\\Xi      &= gzU + z(\\xi_0 - gu_0) = gzU, \\quad \\xi(0) = gu(0) \\\\\n",
    "                                  \\Xi      &= (zI - F)^{-1}gzU \\\\\\\\\n",
    "    \\mathscr{L}\\{y(k)\\} = Y                &= h\\Xi \\\\\n",
    "                                           &= h(zI - F)^{-1}gzU \\\\\\\\\n",
    "    \\mathcal{H} = \\frac{Y}{U}              &= hz(zI - F)^{-1}g \\\\\n",
    "\\end{aligned}\n",
    "$$"
   ]
  },
  {
   "cell_type": "markdown",
   "metadata": {},
   "source": [
    "#### b. Prove that an arbitrary initial state $\\xi_0$ can be transferred to some other arbitrary state in a finite time if and only if the matrix $\\begin{bmatrix}g & Fg & \\cdots & F^{n-1}g\\end{bmatrix}$ is nonsingular."
   ]
  },
  {
   "cell_type": "markdown",
   "metadata": {},
   "source": [
    "$$\n",
    "m\n",
    "$$"
   ]
  },
  {
   "cell_type": "markdown",
   "metadata": {},
   "source": [
    "#### c. Consider how to translate results for the \"$u(k)$\" model to the present model. *Hint:* Define an augmented \"state\" $[x'(k), u(k)]'$."
   ]
  },
  {
   "cell_type": "markdown",
   "metadata": {},
   "source": [
    "### 3. Kailath 2.4-1.\n",
    "Consider the realization with\n",
    "$$\n",
    "\\begin{aligned}\n",
    "A &= \\text{block diag} \\left\\{ \\begin{bmatrix}-2&1\\\\0&-2\\end{bmatrix},\\begin{bmatrix}1&1\\\\0&1\\end{bmatrix} \\right\\} \\\\\n",
    "b' &= \\begin{bmatrix}1&0&1&1\\end{bmatrix}, \\quad c=\\begin{bmatrix}1&0&0&0\\end{bmatrix} \\\\\n",
    "\\end{aligned}\n",
    "$$\n",
    "Draw a block diagram of the realization and check its controllability in as many ways as you can.\n",
    "\n",
    "(Also comment on observability.)"
   ]
  },
  {
   "cell_type": "markdown",
   "metadata": {},
   "source": [
    "### 4. Kailath 2.4-3. *(DeBra)*\n",
    "An inverted pendulum, of mass $m$, is hinged at $A$.  A gyro withspin angular momentum, $h$, is attached to the pendulum but is free to rotate about the pendulum axis (angle $\\phi$) as shown in the figure.  A control torque, $Q$, can be applied to the gyro from the pendulum.  The equations of motion are \n",
    "$$ \n",
    "I\\ddot{\\theta} = mgl\\theta - h\\dot\\phi \\\\\n",
    "\\text{and}\\\\\n",
    "J\\ddot\\phi = h\\dot\\theta + Q\n",
    "$$\n",
    "where $I=$ the moment of inertia of the gyro about axis AC, and $C=$ the mass center of the pendulum plus gyro\n",
    "\n",
    "(**Remark:** The given equations of motion have already been linearized for you about the equilibrium position $\\theta = 0$.)"
   ]
  },
  {
   "cell_type": "markdown",
   "metadata": {},
   "source": [
    "#### a. Compute the transfer function from $u(\\cdot)$ to $\\phi(\\cdot)$ and $u(\\cdot)$ to $\\theta(\\cdot)$."
   ]
  },
  {
   "cell_type": "markdown",
   "metadata": {},
   "source": []
  },
  {
   "cell_type": "markdown",
   "metadata": {},
   "source": [
    "#### b. Show that the system in controllable by $Q$, observable with $\\phi$ and unobservable with $\\theta$."
   ]
  },
  {
   "cell_type": "markdown",
   "metadata": {},
   "source": []
  },
  {
   "cell_type": "markdown",
   "metadata": {},
   "source": [
    "#### c. Show that the system is always unstable."
   ]
  },
  {
   "cell_type": "markdown",
   "metadata": {},
   "source": []
  },
  {
   "cell_type": "markdown",
   "metadata": {},
   "source": [
    "### 5. *A Certain Commutativity Property*\n",
    "Let $A \\in \\mathbb{R}^{n×n}$ be an arbitrary matrix and $b(s)$ be any degree n polynomial. Extend the domain of $b(s)$ to $\\mathbb{R}^{n×n}$ in the usual way."
   ]
  },
  {
   "cell_type": "markdown",
   "metadata": {},
   "source": [
    "#### (a) Show that in general $\\lambda(b(A)) = b(\\lambda(A))$, where $\\lambda(\\cdot)$ denotes any eigenvalue of its matrix argument."
   ]
  },
  {
   "cell_type": "markdown",
   "metadata": {},
   "source": []
  },
  {
   "cell_type": "markdown",
   "metadata": {},
   "source": [
    "#### (b) How does the result in part (a) simplify if $b(s)$ is the characteristic polynomial of $A$?"
   ]
  },
  {
   "cell_type": "markdown",
   "metadata": {},
   "source": []
  }
 ],
 "metadata": {
  "kernelspec": {
   "display_name": "MATLAB",
   "language": "matlab",
   "name": "imatlab"
  },
  "language_info": {
   "codemirror_mode": "octave",
   "file_extension": ".m",
   "mimetype": "text/x-matlab",
   "name": "matlab",
   "nbconvert_exporter": "imatlab._exporter.MatlabExporter",
   "pygments_lexer": "matlab",
   "version": "9.2.0.556344 (R2017a)"
  }
 },
 "nbformat": 4,
 "nbformat_minor": 2
}
